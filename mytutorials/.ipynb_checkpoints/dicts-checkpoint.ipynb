{
 "cells": [
  {
   "cell_type": "code",
   "execution_count": null,
   "metadata": {},
   "outputs": [],
   "source": [
    "# Basic Programming: Data Types/Structures\n",
    "Type I: Sequence\n",
    "        > inside sequence, elements have a sequential order\n",
    "        > because sequence elements have a sequential order, they can be:\n",
    "            -indexed\n",
    "            -sliced\n",
    "            -iterated\n",
    "        > well-known exampes are strings, lists, and tuples\n",
    "        \n",
    "    Type II: Unordered data\n",
    "        > Common types are dictionaries and sets:\n",
    "            -a dictionary stores relationships between a key and value\n",
    "            -a set is just an unordered collection of values\n",
    "         \n",
    "        Boolean\n",
    "        NumPy arrays\n",
    "        Dataframes\n",
    "        Integers\n",
    "        Floats\n",
    "   "
   ]
  },
  {
   "cell_type": "code",
   "execution_count": null,
   "metadata": {},
   "outputs": [],
   "source": [
    "Type II: SEQUENCE"
   ]
  },
  {
   "cell_type": "code",
   "execution_count": null,
   "metadata": {},
   "outputs": [],
   "source": [
    " A: Dictionaries:"
   ]
  },
  {
   "cell_type": "code",
   "execution_count": 1,
   "metadata": {},
   "outputs": [],
   "source": [
    "# a dictionary is defined by enclosing key:value pairs between curly brackets {}:\n",
    "\n",
    "alleles = {\"human\" : \"AGCATGCATCGATCGATCGACTAGCTAGCG\",\n",
    "          \"chimp\" : \"GATATGTCGAGATCGTCAGCTCGATCAGCT\",\n",
    "          \"gorilla\" : \"TGTGTCGATCTCGAGCTGAGTCGTCTATCA\"}\n"
   ]
  },
  {
   "cell_type": "code",
   "execution_count": 4,
   "metadata": {},
   "outputs": [
    {
     "name": "stdout",
     "output_type": "stream",
     "text": [
      "human\n",
      "chimp\n",
      "gorilla\n"
     ]
    }
   ],
   "source": [
    "# dictionaries are labelled as unordered because they don't keep track of the order of its elements:\n",
    "for allele in alleles:\n",
    "    print(allele)\n",
    "    "
   ]
  },
  {
   "cell_type": "code",
   "execution_count": 15,
   "metadata": {},
   "outputs": [],
   "source": [
    "# now enter a new element:\n",
    "alleles[\"X\"] = \"CCCCCGGATCTCGAGCTGAGTCGTGGGGGG\"\n",
    "alleles[\"monkey\"] = \"CCCCCGGATCTCGAGCTGAGTCGTCTATCA\"\n"
   ]
  },
  {
   "cell_type": "code",
   "execution_count": 18,
   "metadata": {},
   "outputs": [
    {
     "name": "stdout",
     "output_type": "stream",
     "text": [
      "human\n",
      "chimp\n",
      "gorilla\n",
      "monkey\n",
      "horse\n",
      "X\n"
     ]
    }
   ],
   "source": [
    "# after adding this element, the original order can disappear:\n",
    "for allele in alleles:\n",
    "    print(allele)"
   ]
  },
  {
   "cell_type": "code",
   "execution_count": 19,
   "metadata": {},
   "outputs": [
    {
     "data": {
      "text/plain": [
       "dict_keys(['human', 'chimp', 'gorilla', 'monkey', 'horse', 'X'])"
      ]
     },
     "execution_count": 19,
     "metadata": {},
     "output_type": "execute_result"
    }
   ],
   "source": [
    "# you can list the keys and values of dictionaries with the methods keys() and values(), respectively:\n",
    "alleles.keys()"
   ]
  },
  {
   "cell_type": "code",
   "execution_count": 20,
   "metadata": {},
   "outputs": [
    {
     "data": {
      "text/plain": [
       "dict_values(['AGCATGCATCGATCGATCGACTAGCTAGCG', 'GATATGTCGAGATCGTCAGCTCGATCAGCT', 'TGTGTCGATCTCGAGCTGAGTCGTCTATCA', 'CCCCCGGATCTCGAGCTGAGTCGTCTATCA', 'CCCCCGGATCTCGAGCTGAGTCGTGGGGGG', 'CCCCCGGATCTCGAGCTGAGTCGTGGGGGG'])"
      ]
     },
     "execution_count": 20,
     "metadata": {},
     "output_type": "execute_result"
    }
   ],
   "source": [
    "alleles.values()"
   ]
  },
  {
   "cell_type": "code",
   "execution_count": 21,
   "metadata": {},
   "outputs": [
    {
     "data": {
      "text/plain": [
       "False"
      ]
     },
     "execution_count": 21,
     "metadata": {},
     "output_type": "execute_result"
    }
   ],
   "source": [
    "# >membership test:\n",
    "\"dog\" in alleles"
   ]
  },
  {
   "cell_type": "code",
   "execution_count": 22,
   "metadata": {},
   "outputs": [
    {
     "data": {
      "text/plain": [
       "dict_items([('human', 'AGCATGCATCGATCGATCGACTAGCTAGCG'), ('chimp', 'GATATGTCGAGATCGTCAGCTCGATCAGCT'), ('gorilla', 'TGTGTCGATCTCGAGCTGAGTCGTCTATCA'), ('monkey', 'CCCCCGGATCTCGAGCTGAGTCGTCTATCA'), ('horse', 'CCCCCGGATCTCGAGCTGAGTCGTGGGGGG'), ('X', 'CCCCCGGATCTCGAGCTGAGTCGTGGGGGG')])"
      ]
     },
     "execution_count": 22,
     "metadata": {},
     "output_type": "execute_result"
    }
   ],
   "source": [
    "# another way of gaining access to the elements of a dictionary is by using items():\n",
    "\n",
    "alleles.items() # returns a list with a tuple for every key/value pair\n",
    "                "
   ]
  },
  {
   "cell_type": "code",
   "execution_count": null,
   "metadata": {},
   "outputs": [],
   "source": []
  },
  {
   "cell_type": "code",
   "execution_count": null,
   "metadata": {},
   "outputs": [],
   "source": [
    "\n",
    "        "
   ]
  },
  {
   "cell_type": "code",
   "execution_count": null,
   "metadata": {},
   "outputs": [],
   "source": [
    "   "
   ]
  },
  {
   "cell_type": "code",
   "execution_count": null,
   "metadata": {},
   "outputs": [],
   "source": []
  },
  {
   "cell_type": "code",
   "execution_count": null,
   "metadata": {},
   "outputs": [],
   "source": []
  },
  {
   "cell_type": "code",
   "execution_count": null,
   "metadata": {},
   "outputs": [],
   "source": []
  },
  {
   "cell_type": "code",
   "execution_count": null,
   "metadata": {},
   "outputs": [],
   "source": []
  },
  {
   "cell_type": "code",
   "execution_count": null,
   "metadata": {},
   "outputs": [],
   "source": [
    " "
   ]
  },
  {
   "cell_type": "code",
   "execution_count": null,
   "metadata": {},
   "outputs": [],
   "source": []
  }
 ],
 "metadata": {
  "kernelspec": {
   "display_name": "Python 3",
   "language": "python",
   "name": "python3"
  },
  "language_info": {
   "codemirror_mode": {
    "name": "ipython",
    "version": 3
   },
   "file_extension": ".py",
   "mimetype": "text/x-python",
   "name": "python",
   "nbconvert_exporter": "python",
   "pygments_lexer": "ipython3",
   "version": "3.7.1"
  }
 },
 "nbformat": 4,
 "nbformat_minor": 2
}
