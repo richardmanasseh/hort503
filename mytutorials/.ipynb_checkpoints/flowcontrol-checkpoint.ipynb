{
 "cells": [
  {
   "cell_type": "code",
   "execution_count": null,
   "metadata": {},
   "outputs": [],
   "source": [
    "# Basic Programming: How do we make computers do things - 4 Concepts To Read all Code\n",
    "Concept I: Step by step execution, line by line from top to bottom\n",
    "             \n",
    "Concept II: Conditional execution\n",
    "    \n",
    "Concept III: Loops - packaging apples\n",
    "            i) open the box\n",
    "            ii) pick an apple\n",
    "            iii) put the apple in the box\n",
    "            iv) repeat i-iii until no more apple to pick or box full\n",
    "\n",
    "Concept IIV: Functions = block of code you can reuse at different places in yoour code\n",
    "   "
   ]
  },
  {
   "cell_type": "code",
   "execution_count": null,
   "metadata": {},
   "outputs": [],
   "source": [
    "# Type I: Conditional execution - If-Else\n",
    "# Acts upon the result of an evaluation\n",
    "# you want to decide between two alternatives\n",
    "# Basic schema:\n",
    "\n",
    "    if (boolean_expression): \n",
    "        Block 1 # # Statements to execute if boolean_expression is True\n",
    "    else:\n",
    "        Block 2 # Statements to execute if boolean_expression is False\n",
    "        "
   ]
  },
  {
   "cell_type": "code",
   "execution_count": 11,
   "metadata": {},
   "outputs": [
    {
     "name": "stdout",
     "output_type": "stream",
     "text": [
      "gene is highly expressed\n"
     ]
    }
   ],
   "source": [
    "# if statements\n",
    "# Often you want to execute code (instructions) only in certain circumstances (i.e., conditionally)\n",
    "expression_level = 125\n",
    "if expression_level > 100:\n",
    "    print(\"gene is highly expressed\")"
   ]
  },
  {
   "cell_type": "code",
   "execution_count": 12,
   "metadata": {},
   "outputs": [
    {
     "name": "stdout",
     "output_type": "stream",
     "text": [
      "gene is highly expressed\n"
     ]
    }
   ],
   "source": [
    "# If-Else\n",
    "expression_level = 125\n",
    "if expression_level > 100:\n",
    "    print(\"gene is highly expressed\")\n",
    "else:\n",
    "    print(\"gene is lowly expressed\")"
   ]
  },
  {
   "cell_type": "code",
   "execution_count": 5,
   "metadata": {},
   "outputs": [
    {
     "name": "stdout",
     "output_type": "stream",
     "text": [
      "This is a short sequence\n"
     ]
    }
   ],
   "source": [
    "# Example 2:        \n",
    "kozak = \"ACCATGG\"\n",
    "if (len(kozak) < 50): \n",
    "    print('This is a short sequence')"
   ]
  },
  {
   "cell_type": "code",
   "execution_count": 9,
   "metadata": {},
   "outputs": [
    {
     "name": "stdout",
     "output_type": "stream",
     "text": [
      "Sequence is DNA\n"
     ]
    }
   ],
   "source": [
    "# Is this an RNA sequence? \n",
    "if (kozak.count(\"U\") > 0): \n",
    "    print(\"Sequence is RNA\") \n",
    "else:\n",
    "    print(\"Sequence is DNA\")"
   ]
  },
  {
   "cell_type": "code",
   "execution_count": 10,
   "metadata": {},
   "outputs": [
    {
     "name": "stdout",
     "output_type": "stream",
     "text": [
      "Sequence is DNA.\n"
     ]
    }
   ],
   "source": [
    "# Is this an RNA sequence? \n",
    "if (kozak.count(\"U\") > 0): \n",
    "    print(\"Sequence is RNA\")\n",
    "else: \n",
    "    if (kozak.count(\"T\") > 0): \n",
    "        print(\"Sequence is DNA.\")\n"
   ]
  },
  {
   "cell_type": "code",
   "execution_count": null,
   "metadata": {},
   "outputs": [],
   "source": [
    "#  Multiple alternatives \n",
    "if condition: \n",
    "    # block of statements executed only if condition is true\n",
    "elif second_condition: \n",
    "    # block of statements executed only if second condition is true and condition is false\n",
    "else:\n",
    "    # block of statements executed only if all conditions are false\n"
   ]
  },
  {
   "cell_type": "code",
   "execution_count": null,
   "metadata": {},
   "outputs": [],
   "source": [
    "#  Multiple alternatives without elif \n",
    "if condition: \n",
    "    # block of statements executed only if condition is true\n",
    "else:\n",
    "    if second_condition: \n",
    "    # block of statements executed only if second condition is true and condition is false\n",
    "    else:\n",
    "    # block of statements executed only if all conditions are false"
   ]
  },
  {
   "cell_type": "code",
   "execution_count": null,
   "metadata": {},
   "outputs": [],
   "source": [
    "# nested conditionals\n",
    "if (boolean_expression_1): \n",
    "    if (boolean_expression_2): \n",
    "        # Statements to execute if boolean_expression_2 is true \n",
    "    else: \n",
    "        # Statements to execute if boolean_expression_2 is false\n"
   ]
  },
  {
   "cell_type": "code",
   "execution_count": null,
   "metadata": {},
   "outputs": [],
   "source": [
    "# nested conditionals...\n",
    "if condition: \n",
    "    if second_condition:\n",
    "        # block of statements executed only if condition and second_condition are true\n",
    "    else:\n",
    "         # block of statements executed only if condition is true\n",
    "\n",
    "else:\n",
    "    if third_condition:\n",
    "        # block of statements executed only if condition is false and third_condition is true\n",
    "        \n",
    "    else:\n",
    "        # block of statements executed only if condition is false and third_condition is false\n"
   ]
  },
  {
   "cell_type": "code",
   "execution_count": 16,
   "metadata": {},
   "outputs": [],
   "source": [
    "# for loop \n",
    "# The for loop is used to loop over a collection of objects (e.g. a string, list, tuple, ...).\n",
    "# The basic syntax of the for loop is the following:\n",
    "# for elem in collection:\n",
    "    #OK, do something with elem\n",
    "    # instruction 1\n",
    "    # instruction 2\n",
    "\n",
    "# the variable elem will get the value of each one of the elements present in collection one after the other. \n",
    "# The end of the block of code to be executed for each element in the collection is again defined by indentation.\n",
    "# Depending on the type of the collection elem will get different values:\n",
    "  #  with a string, for loop iterates over characters\n",
    "  #  with a list, for loop iterates over elements\n",
    "  #  with a tuple, for loop iterates over elements\n",
    "  #  with a dictionary, for loop iterates over keys\n"
   ]
  },
  {
   "cell_type": "code",
   "execution_count": 17,
   "metadata": {},
   "outputs": [
    {
     "name": "stdout",
     "output_type": "stream",
     "text": [
      "a\n",
      "g\n",
      "c\n",
      "t\n"
     ]
    }
   ],
   "source": [
    "#for loop on list\n",
    "DNAbases = ['a', 'g', 'c', 't'] \n",
    "for base in DNAbases:\n",
    "    print(base)"
   ]
  },
  {
   "cell_type": "code",
   "execution_count": 18,
   "metadata": {},
   "outputs": [
    {
     "name": "stdout",
     "output_type": "stream",
     "text": [
      "A\n",
      "G\n",
      "C\n",
      "A\n",
      "T\n",
      "G\n",
      "C\n",
      "A\n",
      "T\n",
      "C\n",
      "G\n",
      "A\n",
      "T\n",
      "C\n",
      "G\n"
     ]
    }
   ],
   "source": [
    "#for loop on string\n",
    "trv_primer = 'AGCATGCATCGATCG'\n",
    "for c in trv_primer:\n",
    "     print(c)"
   ]
  },
  {
   "cell_type": "code",
   "execution_count": 19,
   "metadata": {},
   "outputs": [
    {
     "name": "stdout",
     "output_type": "stream",
     "text": [
      "0\n",
      "1\n",
      "3\n"
     ]
    }
   ],
   "source": [
    "#for loop on tuple\n",
    "myTuple = (0,1,3)\n",
    "for i in myTuple:\n",
    "    print(i)"
   ]
  },
  {
   "cell_type": "code",
   "execution_count": 20,
   "metadata": {},
   "outputs": [
    {
     "name": "stdout",
     "output_type": "stream",
     "text": [
      "0\n",
      "1\n",
      "9\n"
     ]
    }
   ],
   "source": [
    "for i in myTuple:\n",
    "    print(i**2)"
   ]
  },
  {
   "cell_type": "code",
   "execution_count": null,
   "metadata": {},
   "outputs": [],
   "source": [
    "#for loop on dictionry\n",
    "# Here's a bit of code that creates a dictionary of restriction enzymes and their regular expressions with three items:\n",
    "\n",
    "enzymes = { 'EcoRI':r'GAATTC','AvaII':r'GG(A|T)CC', 'BisI':r'GC[ATGC]GC' }\n",
    "\n",
    "# In this case, the keys and values are both strings. Splitting the dictionary definition over several lines makes it easier to read:\n",
    "\n",
    "enzymes = { \n",
    "    'EcoRI' : r'GAATTC', \n",
    "    'AvaII' : r'GG(A|T)CC', \n",
    "    'BisI'  : r'GC[ATGC]GC' \n",
    "}\n",
    "\n",
    "for enzyme in enzymes: \n",
    "    print(enzymmes.keys())\n",
    "    \n",
    "    if all_counts.get(dinucleotide, 0) == 2: \n",
    "        print(dinucleotide)\n",
    "        "
   ]
  },
  {
   "cell_type": "code",
   "execution_count": 22,
   "metadata": {},
   "outputs": [],
   "source": [
    "# Here's a dict which represents the genetic code – the keys are codons and the values are amino acid residues:\n",
    "genecode = {\n",
    "    'ATA':'I', 'ATC':'I', 'ATT':'I', 'ATG':'M',\n",
    "    'ACA':'T', 'ACC':'T', 'ACG':'T', 'ACT':'T',\n",
    "    'AAC':'N', 'AAT':'N', 'AAA':'K', 'AAG':'K',\n",
    "    'AGC':'S', 'AGT':'S', 'AGA':'R', 'AGG':'R',\n",
    "    'CTA':'L', 'CTC':'L', 'CTG':'L', 'CTT':'L',\n",
    "    'CCA':'P', 'CCC':'P', 'CCG':'P', 'CCT':'P',\n",
    "    'CAC':'H', 'CAT':'H', 'CAA':'Q', 'CAG':'Q',\n",
    "    'CGA':'R', 'CGC':'R', 'CGG':'R', 'CGT':'R',\n",
    "    'GTA':'V', 'GTC':'V', 'GTG':'V', 'GTT':'V',\n",
    "    'GCA':'A', 'GCC':'A', 'GCG':'A', 'GCT':'A',\n",
    "    'GAC':'D', 'GAT':'D', 'GAA':'E', 'GAG':'E',\n",
    "    'GGA':'G', 'GGC':'G', 'GGG':'G', 'GGT':'G',\n",
    "    'TCA':'S', 'TCC':'S', 'TCG':'S', 'TCT':'S',\n",
    "    'TTC':'F', 'TTT':'F', 'TTA':'L', 'TTG':'L',\n",
    "    'TAC':'Y', 'TAT':'Y', 'TAA':'_', 'TAG':'_',\n",
    "    'TGC':'C', 'TGT':'C', 'TGA':'_', 'TGG':'W'}\n"
   ]
  },
  {
   "cell_type": "code",
   "execution_count": 30,
   "metadata": {},
   "outputs": [],
   "source": [
    "# When looping through dictionaries, the key and corresponding value can also be retrieved at the same time using the items() method. \n",
    "#for k, v in genecode.items(): # for KEY, VALUE in DICT.items():\n",
    "    #print(k, v)\n",
    "        "
   ]
  },
  {
   "cell_type": "code",
   "execution_count": 31,
   "metadata": {},
   "outputs": [],
   "source": [
    "# - While loop\n",
    "# The construct while executes an operation until a condition is satisfied. \n",
    "while (conditional test/boolean_expression): \n",
    "    # Statements to execute as long as boolean_expression is True. \n",
    "    # Statements to ensure that, eventually, boolean_expression will be false. Otherwise, the loop will repeat indefinitely.\n",
    "\n",
    "# for vs. while\n",
    " # • for is natural to loop through a list, characters in a string, etc. (anything of determinate size). \n",
    " # • while is natural to loop an indeterminate number of times until some condition is met.\n",
    "\n",
    "while (error > 0.05): \n",
    "    <do something that will reduce error>\n",
    "\n",
    "\n",
    "General steps of a while loop:\n",
    "    \n",
    "    # Evaluate any code before while\n",
    "    # Evaluate the while loop’s condition:\n",
    "    # If it is True, evaluate the block of code, and then repeat the evaluation of the condition.\n",
    "    # If it is False, end the loop, and continue with the code after the loop.\n",
    "\n",
    "                    "
   ]
  },
  {
   "cell_type": "code",
   "execution_count": 32,
   "metadata": {},
   "outputs": [
    {
     "name": "stdout",
     "output_type": "stream",
     "text": [
      "0\n",
      "1\n",
      "2\n",
      "3\n",
      "4\n",
      "5\n",
      "6\n",
      "7\n",
      "8\n",
      "9\n"
     ]
    }
   ],
   "source": [
    "count = 0 # a variable is declared and assigned an initial value\n",
    "while count<10: # the range for count is the interval [-infinity, 9].\n",
    "    print(count) \n",
    "    count = count + 1 # Evaluates the while loop’s condition to False (i.e. count = 10)\n",
    "    \n",
    "# You can kill a loop that had no boolean_expression to evaluate false it by pressing the keys 'Ctrl' and 'C' together"
   ]
  },
  {
   "cell_type": "code",
   "execution_count": 33,
   "metadata": {},
   "outputs": [
    {
     "name": "stdout",
     "output_type": "stream",
     "text": [
      "Current Letter : P\n",
      "Current Letter : y\n",
      "Current Letter : t\n"
     ]
    }
   ],
   "source": [
    "# Terminating a loop\n",
    "    # • continue : jumps to the top of the enclosing loop\n",
    "    # • break : breaks completely out of the enclosing loop\n",
    "\n",
    "for letter in 'Python': \n",
    "   if letter == 'h':\n",
    "      break\n",
    "   print(\"Current Letter :\", letter) \n",
    "    "
   ]
  },
  {
   "cell_type": "code",
   "execution_count": 43,
   "metadata": {},
   "outputs": [],
   "source": [
    "DNAseq = \"TTGCTAG\""
   ]
  },
  {
   "cell_type": "code",
   "execution_count": 47,
   "metadata": {},
   "outputs": [
    {
     "name": "stdout",
     "output_type": "stream",
     "text": [
      "Base  A found\n"
     ]
    }
   ],
   "source": [
    "for base in DNAseq:\n",
    "      if base == \"A\":\n",
    "            break\n",
    "                  \n",
    "print(\"Base \", base, \"found\") "
   ]
  },
  {
   "cell_type": "code",
   "execution_count": null,
   "metadata": {},
   "outputs": [],
   "source": [
    "a = 1\n",
    "while a == 1:\n",
    "    pass\n",
    "\n",
    "is equivalent to:\n",
    "    \n",
    "while True:\n",
    "    pass\n"
   ]
  },
  {
   "cell_type": "code",
   "execution_count": 49,
   "metadata": {},
   "outputs": [
    {
     "name": "stdout",
     "output_type": "stream",
     "text": [
      "1\n",
      "2\n",
      "3\n",
      "4\n",
      "After Break\n"
     ]
    }
   ],
   "source": [
    "a = 1\n",
    "while True:\n",
    "  print(a)\n",
    "  a += 1\n",
    "  if a == 5:\n",
    "    break\n",
    "print(\"After Break\")"
   ]
  },
  {
   "cell_type": "code",
   "execution_count": 50,
   "metadata": {},
   "outputs": [
    {
     "name": "stdout",
     "output_type": "stream",
     "text": [
      "1\n",
      "3\n",
      "5\n",
      "7\n",
      "9\n"
     ]
    }
   ],
   "source": [
    "# continue:\n",
    "\n",
    "# Prints out only odd numbers - 1,3,5,7,9\n",
    "for x in range(10):\n",
    "    # Check if x is even\n",
    "    if x % 2 == 0: \n",
    "        continue # return to the \"for\" or \"while\" statement.\n",
    "    print(x)"
   ]
  },
  {
   "cell_type": "code",
   "execution_count": null,
   "metadata": {},
   "outputs": [],
   "source": []
  },
  {
   "cell_type": "code",
   "execution_count": null,
   "metadata": {},
   "outputs": [],
   "source": []
  },
  {
   "cell_type": "code",
   "execution_count": null,
   "metadata": {},
   "outputs": [],
   "source": []
  },
  {
   "cell_type": "code",
   "execution_count": null,
   "metadata": {},
   "outputs": [],
   "source": []
  },
  {
   "cell_type": "code",
   "execution_count": 19,
   "metadata": {},
   "outputs": [
    {
     "data": {
      "text/plain": [
       "'TTGCTAG'"
      ]
     },
     "execution_count": 19,
     "metadata": {},
     "output_type": "execute_result"
    }
   ],
   "source": [
    "# iv) Return the index position of the substring (mandatory parameter), between the start and end position (optional parameters): the find() function:\n",
    "DNAseq"
   ]
  },
  {
   "cell_type": "code",
   "execution_count": 27,
   "metadata": {},
   "outputs": [
    {
     "data": {
      "text/plain": [
       "5"
      ]
     },
     "execution_count": 27,
     "metadata": {},
     "output_type": "execute_result"
    }
   ],
   "source": [
    "DNAseq.find(\"A\")"
   ]
  },
  {
   "cell_type": "code",
   "execution_count": 26,
   "metadata": {},
   "outputs": [
    {
     "data": {
      "text/plain": [
       "1"
      ]
     },
     "execution_count": 26,
     "metadata": {},
     "output_type": "execute_result"
    }
   ],
   "source": [
    "DNAseq.find(\"TG\")"
   ]
  },
  {
   "cell_type": "code",
   "execution_count": 29,
   "metadata": {},
   "outputs": [
    {
     "data": {
      "text/plain": [
       "0"
      ]
     },
     "execution_count": 29,
     "metadata": {},
     "output_type": "execute_result"
    }
   ],
   "source": [
    "DNAseq.find(\"T\", 0, 5) # returns location of first instance of \"T\""
   ]
  },
  {
   "cell_type": "code",
   "execution_count": 30,
   "metadata": {},
   "outputs": [
    {
     "data": {
      "text/plain": [
       "'UUGCUAG'"
      ]
     },
     "execution_count": 30,
     "metadata": {},
     "output_type": "execute_result"
    }
   ],
   "source": [
    "mRNAseq"
   ]
  },
  {
   "cell_type": "code",
   "execution_count": 31,
   "metadata": {},
   "outputs": [
    {
     "data": {
      "text/plain": [
       "-1"
      ]
     },
     "execution_count": 31,
     "metadata": {},
     "output_type": "execute_result"
    }
   ],
   "source": [
    "mRNAseq.find('AUG') # not found:"
   ]
  },
  {
   "cell_type": "code",
   "execution_count": 32,
   "metadata": {},
   "outputs": [
    {
     "data": {
      "text/plain": [
       "4"
      ]
     },
     "execution_count": 32,
     "metadata": {},
     "output_type": "execute_result"
    }
   ],
   "source": [
    "mRNAseq.find('UAG') # returns index of first element in substring, U"
   ]
  },
  {
   "cell_type": "code",
   "execution_count": 34,
   "metadata": {},
   "outputs": [
    {
     "data": {
      "text/plain": [
       "0"
      ]
     },
     "execution_count": 34,
     "metadata": {},
     "output_type": "execute_result"
    }
   ],
   "source": [
    "# 5v) Also Return the index position of the substring (mandatory parameter), between the start and end position (optional parameters): the index() function:\n",
    "mRNAseq.index(\"U\")"
   ]
  },
  {
   "cell_type": "code",
   "execution_count": 35,
   "metadata": {},
   "outputs": [
    {
     "ename": "ValueError",
     "evalue": "substring not found",
     "output_type": "error",
     "traceback": [
      "\u001b[1;31m---------------------------------------------------------------------------\u001b[0m",
      "\u001b[1;31mValueError\u001b[0m                                Traceback (most recent call last)",
      "\u001b[1;32m<ipython-input-35-5b2263f79a1c>\u001b[0m in \u001b[0;36m<module>\u001b[1;34m\u001b[0m\n\u001b[0;32m      1\u001b[0m \u001b[1;31m# but different from find() method in that it returns a ValueError when the substring is not found:\u001b[0m\u001b[1;33m\u001b[0m\u001b[1;33m\u001b[0m\u001b[1;33m\u001b[0m\u001b[0m\n\u001b[0;32m      2\u001b[0m \u001b[1;33m\u001b[0m\u001b[0m\n\u001b[1;32m----> 3\u001b[1;33m \u001b[0mmRNAseq\u001b[0m\u001b[1;33m.\u001b[0m\u001b[0mindex\u001b[0m\u001b[1;33m(\u001b[0m\u001b[1;34m\"T\"\u001b[0m\u001b[1;33m)\u001b[0m\u001b[1;33m\u001b[0m\u001b[1;33m\u001b[0m\u001b[0m\n\u001b[0m",
      "\u001b[1;31mValueError\u001b[0m: substring not found"
     ]
    }
   ],
   "source": [
    "# but different from find() method in that it returns a ValueError when the substring is not found:\n",
    "\n",
    "mRNAseq.index(\"T\")"
   ]
  },
  {
   "cell_type": "code",
   "execution_count": null,
   "metadata": {},
   "outputs": [],
   "source": [
    "# ...so the index method is recommended over the find() method since the value -1 could be interpreted as a valid value"
   ]
  },
  {
   "cell_type": "code",
   "execution_count": 36,
   "metadata": {},
   "outputs": [
    {
     "data": {
      "text/plain": [
       "'maskatlllaftllfatcia'"
      ]
     },
     "execution_count": 36,
     "metadata": {},
     "output_type": "execute_result"
    }
   ],
   "source": [
    "# vi) Separate the substrings of a string and return then as a list using the split() function:\n",
    "# syntax: split([sep [,maxsplit]])\n",
    "# if a separator (sep) is not specified, the default separator will be white space i.e. string is split AT space between substrings\n",
    "# maxsplit : It is a number, which tells us to split the string into maximum of provided number of times. \n",
    "signal_peptide"
   ]
  },
  {
   "cell_type": "code",
   "execution_count": 37,
   "metadata": {},
   "outputs": [
    {
     "data": {
      "text/plain": [
       "['maskatlllaftllfatcia']"
      ]
     },
     "execution_count": 37,
     "metadata": {},
     "output_type": "execute_result"
    }
   ],
   "source": [
    "signal_peptide.split() # no space"
   ]
  },
  {
   "cell_type": "code",
   "execution_count": 44,
   "metadata": {},
   "outputs": [
    {
     "data": {
      "text/plain": [
       "['maskatlllaftllfatcia']"
      ]
     },
     "execution_count": 44,
     "metadata": {},
     "output_type": "execute_result"
    }
   ],
   "source": [
    "signal_peptide.split()"
   ]
  },
  {
   "cell_type": "code",
   "execution_count": 48,
   "metadata": {},
   "outputs": [
    {
     "data": {
      "text/plain": [
       "['m', 'sk', 'tlll', 'ftllf', 'tci', '']"
      ]
     },
     "execution_count": 48,
     "metadata": {},
     "output_type": "execute_result"
    }
   ],
   "source": [
    "split_signal_peptide = signal_peptide.split(\"a\")\n",
    "split_signal_peptide "
   ]
  },
  {
   "cell_type": "code",
   "execution_count": 49,
   "metadata": {},
   "outputs": [
    {
     "data": {
      "text/plain": [
       "['m', 'skatlllaftllfatcia']"
      ]
     },
     "execution_count": 49,
     "metadata": {},
     "output_type": "execute_result"
    }
   ],
   "source": [
    "split_signal_peptide2 = signal_peptide.split(\"a\", 1)\n",
    "split_signal_peptide2"
   ]
  },
  {
   "cell_type": "code",
   "execution_count": 50,
   "metadata": {},
   "outputs": [
    {
     "data": {
      "text/plain": [
       "['m', 'sk', 'tlllaftllfatcia']"
      ]
     },
     "execution_count": 50,
     "metadata": {},
     "output_type": "execute_result"
    }
   ],
   "source": [
    "split_signal_peptide3 = signal_peptide.split(\"a\", 2)\n",
    "split_signal_peptide3"
   ]
  },
  {
   "cell_type": "code",
   "execution_count": 45,
   "metadata": {},
   "outputs": [
    {
     "data": {
      "text/plain": [
       "'TTGCTAG'"
      ]
     },
     "execution_count": 45,
     "metadata": {},
     "output_type": "execute_result"
    }
   ],
   "source": [
    "DNAseq\n"
   ]
  },
  {
   "cell_type": "code",
   "execution_count": 47,
   "metadata": {},
   "outputs": [
    {
     "data": {
      "text/plain": [
       "['TTG', 'TAG']"
      ]
     },
     "execution_count": 47,
     "metadata": {},
     "output_type": "execute_result"
    }
   ],
   "source": [
    "split_DNAseq = DNAseq.split(\"C\")\n",
    "split_DNAseq"
   ]
  },
  {
   "cell_type": "code",
   "execution_count": 53,
   "metadata": {},
   "outputs": [
    {
     "data": {
      "text/plain": [
       "'TTG-TAG'"
      ]
     },
     "execution_count": 53,
     "metadata": {},
     "output_type": "execute_result"
    }
   ],
   "source": [
    "# vii) Join stringsusing the join() function:\n",
    "# syntax: sep.join(iterable)\n",
    "# string_name: name of string in which joined elements of iterable will be stored.\n",
    "# Parameters: The join() method takes iterable – objects capable of returning its members one at a time. Some examples are List, Tuple, String, Dictionary and Set\n",
    "# sep = separator\n",
    "sep = \"-\"\n",
    "rejoined_DNAseq = sep.join(split_DNAseq)\n",
    "rejoined_DNAseq"
   ]
  },
  {
   "cell_type": "code",
   "execution_count": 54,
   "metadata": {},
   "outputs": [
    {
     "data": {
      "text/plain": [
       "'TTGTAG'"
      ]
     },
     "execution_count": 54,
     "metadata": {},
     "output_type": "execute_result"
    }
   ],
   "source": [
    "sep = \"\"\n",
    "rejoined_DNAseq2 = sep.join(split_DNAseq)\n",
    "rejoined_DNAseq2"
   ]
  },
  {
   "cell_type": "code",
   "execution_count": null,
   "metadata": {},
   "outputs": [],
   "source": []
  }
 ],
 "metadata": {
  "kernelspec": {
   "display_name": "Python 3",
   "language": "python",
   "name": "python3"
  },
  "language_info": {
   "codemirror_mode": {
    "name": "ipython",
    "version": 3
   },
   "file_extension": ".py",
   "mimetype": "text/x-python",
   "name": "python",
   "nbconvert_exporter": "python",
   "pygments_lexer": "ipython3",
   "version": "3.7.1"
  }
 },
 "nbformat": 4,
 "nbformat_minor": 2
}
