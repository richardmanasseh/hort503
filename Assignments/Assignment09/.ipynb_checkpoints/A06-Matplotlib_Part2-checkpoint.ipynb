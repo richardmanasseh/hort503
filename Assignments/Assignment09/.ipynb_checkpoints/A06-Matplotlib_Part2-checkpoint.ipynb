{
 "cells": [
  {
   "cell_type": "markdown",
   "metadata": {},
   "source": [
    "# Assignment 9, Part 2: Matplotlib -- Seaborn\n",
    "\n",
    "*Introduction to plotting with `Seaborn`.*\n",
    "\n",
    "## Instructions\n",
    "This tutorial provides step-by-step training divided into numbered sections. The sections often contain embeded exectable code for demonstration.  This tutorial is accompanied by a practice notebook with the exact same name but with a `-Practice` suffix.  Throughout this tutorial sections labeled \"Practice Task\" are interspersed and indicated with the icon: ![Task](http://icons.iconarchive.com/icons/sbstnblnd/plateau/16/Apps-gnome-info-icon.png).\n",
    "\n",
    "You should follow the instructions provided in these sections by performing them in the practice notebook.  When the tutorial is completed you can turn in the final practice notebook. \n",
    "\n",
    "\n",
    "## Introduction\n",
    "\n",
    "[Seaborn](https://seaborn.pydata.org/) is a statistical data vizualization library based on `matplotlib` that provides a higher-level interface than what we used in Part 1. This library is extremely usefull for producing 'standard' or otherwise common plots. It is a collection of plotting functions written using `matplotlib`.\n",
    "\n",
    "This notebook will be based on the [official seaborn tutorial](https://seaborn.pydata.org/tutorial.html)"
   ]
  },
  {
   "cell_type": "markdown",
   "metadata": {},
   "source": [
    "---\n",
    "## 1. Getting Started\n",
    "Before we get started we need to import the `seaborn`, `pandas`, `numpy` and `matplotlib` packages."
   ]
  },
  {
   "cell_type": "code",
   "execution_count": 2,
   "metadata": {},
   "outputs": [],
   "source": [
    "import numpy as np\n",
    "import pandas as pd\n",
    "import matplotlib.pyplot as plt\n",
    "import seaborn as sns\n",
    "%matplotlib inline"
   ]
  },
  {
   "cell_type": "markdown",
   "metadata": {},
   "source": [
    "#### Task 1a Setup\n",
    "\n",
    "<span style=\"float:right; margin-left:10px; clear:both;\">![Task](http://icons.iconarchive.com/icons/sbstnblnd/plateau/96/Apps-gnome-info-icon.png)\n",
    "</span>\n",
    "\n",
    "Import the following packages:\n",
    "+ seaborn as sns\n",
    "+ pandas as pd\n",
    "+ numpy as np\n",
    "+ matplotlib.pyplot as plt\n",
    "\n",
    "Activate the `%matplotlib inline` magic."
   ]
  },
  {
   "cell_type": "markdown",
   "metadata": {},
   "source": [
    "---\n",
    "## 2. Seaborn Introduction\n",
    "\n",
    "The API to `seaborn` contains functions for mulitple types of plots including: relational, scatter, line, a variety for categorical data, distributions, regressions, and heatmaps. In addition it provides some functions for creating color palettes. You can see a complete list on functions on the [API Reference page](https://seaborn.pydata.org/api.html).\n",
    "\n",
    "Seaborn provides an [example gallary](https://seaborn.pydata.org/examples/index.html) of plots.  As an example, we've been working with the iris dataset in the previous tutorials.  Below is an example of a plot created by Seaborn displaying all pair-wise scatterplots of the iris dataset:\n",
    "\n",
    "![seaborn iris plot](https://seaborn.pydata.org/_images/seaborn-pairplot-4.png)\n",
    "\n",
    "`Seaborn` comes with a few demo datasets. These can be disovered by calling (ignore the warning message):"
   ]
  },
  {
   "cell_type": "code",
   "execution_count": 3,
   "metadata": {},
   "outputs": [
    {
     "name": "stderr",
     "output_type": "stream",
     "text": [
      "C:\\Users\\rmann\\Anaconda3\\lib\\site-packages\\seaborn\\utils.py:376: UserWarning: No parser was explicitly specified, so I'm using the best available HTML parser for this system (\"lxml\"). This usually isn't a problem, but if you run this code on another system, or in a different virtual environment, it may use a different parser and behave differently.\n",
      "\n",
      "The code that caused this warning is on line 376 of the file C:\\Users\\rmann\\Anaconda3\\lib\\site-packages\\seaborn\\utils.py. To get rid of this warning, pass the additional argument 'features=\"lxml\"' to the BeautifulSoup constructor.\n",
      "\n",
      "  gh_list = BeautifulSoup(http)\n"
     ]
    },
    {
     "data": {
      "text/plain": [
       "['anscombe',\n",
       " 'attention',\n",
       " 'brain_networks',\n",
       " 'car_crashes',\n",
       " 'diamonds',\n",
       " 'dots',\n",
       " 'exercise',\n",
       " 'flights',\n",
       " 'fmri',\n",
       " 'gammas',\n",
       " 'iris',\n",
       " 'mpg',\n",
       " 'planets',\n",
       " 'tips',\n",
       " 'titanic']"
      ]
     },
     "execution_count": 3,
     "metadata": {},
     "output_type": "execute_result"
    }
   ],
   "source": [
    "sns.get_dataset_names()"
   ]
  },
  {
   "cell_type": "markdown",
   "metadata": {},
   "source": [
    "Observe that the iris dataset we've been using recently is included!  You can load any dataset you want to practice with using the `load_dataset` function. For example to view the iris dataset:"
   ]
  },
  {
   "cell_type": "code",
   "execution_count": 4,
   "metadata": {},
   "outputs": [
    {
     "data": {
      "text/html": [
       "<div>\n",
       "<style scoped>\n",
       "    .dataframe tbody tr th:only-of-type {\n",
       "        vertical-align: middle;\n",
       "    }\n",
       "\n",
       "    .dataframe tbody tr th {\n",
       "        vertical-align: top;\n",
       "    }\n",
       "\n",
       "    .dataframe thead th {\n",
       "        text-align: right;\n",
       "    }\n",
       "</style>\n",
       "<table border=\"1\" class=\"dataframe\">\n",
       "  <thead>\n",
       "    <tr style=\"text-align: right;\">\n",
       "      <th></th>\n",
       "      <th>sepal_length</th>\n",
       "      <th>sepal_width</th>\n",
       "      <th>petal_length</th>\n",
       "      <th>petal_width</th>\n",
       "      <th>species</th>\n",
       "    </tr>\n",
       "  </thead>\n",
       "  <tbody>\n",
       "    <tr>\n",
       "      <th>0</th>\n",
       "      <td>5.1</td>\n",
       "      <td>3.5</td>\n",
       "      <td>1.4</td>\n",
       "      <td>0.2</td>\n",
       "      <td>setosa</td>\n",
       "    </tr>\n",
       "    <tr>\n",
       "      <th>1</th>\n",
       "      <td>4.9</td>\n",
       "      <td>3.0</td>\n",
       "      <td>1.4</td>\n",
       "      <td>0.2</td>\n",
       "      <td>setosa</td>\n",
       "    </tr>\n",
       "    <tr>\n",
       "      <th>2</th>\n",
       "      <td>4.7</td>\n",
       "      <td>3.2</td>\n",
       "      <td>1.3</td>\n",
       "      <td>0.2</td>\n",
       "      <td>setosa</td>\n",
       "    </tr>\n",
       "    <tr>\n",
       "      <th>3</th>\n",
       "      <td>4.6</td>\n",
       "      <td>3.1</td>\n",
       "      <td>1.5</td>\n",
       "      <td>0.2</td>\n",
       "      <td>setosa</td>\n",
       "    </tr>\n",
       "    <tr>\n",
       "      <th>4</th>\n",
       "      <td>5.0</td>\n",
       "      <td>3.6</td>\n",
       "      <td>1.4</td>\n",
       "      <td>0.2</td>\n",
       "      <td>setosa</td>\n",
       "    </tr>\n",
       "  </tbody>\n",
       "</table>\n",
       "</div>"
      ],
      "text/plain": [
       "   sepal_length  sepal_width  petal_length  petal_width species\n",
       "0           5.1          3.5           1.4          0.2  setosa\n",
       "1           4.9          3.0           1.4          0.2  setosa\n",
       "2           4.7          3.2           1.3          0.2  setosa\n",
       "3           4.6          3.1           1.5          0.2  setosa\n",
       "4           5.0          3.6           1.4          0.2  setosa"
      ]
     },
     "execution_count": 4,
     "metadata": {},
     "output_type": "execute_result"
    }
   ],
   "source": [
    "iris_df = sns.load_dataset('iris')\n",
    "iris_df.head(5)"
   ]
  },
  {
   "cell_type": "markdown",
   "metadata": {},
   "source": [
    "And another dataset containing restaurant tip data:"
   ]
  },
  {
   "cell_type": "code",
   "execution_count": 5,
   "metadata": {},
   "outputs": [
    {
     "data": {
      "text/html": [
       "<div>\n",
       "<style scoped>\n",
       "    .dataframe tbody tr th:only-of-type {\n",
       "        vertical-align: middle;\n",
       "    }\n",
       "\n",
       "    .dataframe tbody tr th {\n",
       "        vertical-align: top;\n",
       "    }\n",
       "\n",
       "    .dataframe thead th {\n",
       "        text-align: right;\n",
       "    }\n",
       "</style>\n",
       "<table border=\"1\" class=\"dataframe\">\n",
       "  <thead>\n",
       "    <tr style=\"text-align: right;\">\n",
       "      <th></th>\n",
       "      <th>total_bill</th>\n",
       "      <th>tip</th>\n",
       "      <th>sex</th>\n",
       "      <th>smoker</th>\n",
       "      <th>day</th>\n",
       "      <th>time</th>\n",
       "      <th>size</th>\n",
       "    </tr>\n",
       "  </thead>\n",
       "  <tbody>\n",
       "    <tr>\n",
       "      <th>0</th>\n",
       "      <td>16.99</td>\n",
       "      <td>1.01</td>\n",
       "      <td>Female</td>\n",
       "      <td>No</td>\n",
       "      <td>Sun</td>\n",
       "      <td>Dinner</td>\n",
       "      <td>2</td>\n",
       "    </tr>\n",
       "    <tr>\n",
       "      <th>1</th>\n",
       "      <td>10.34</td>\n",
       "      <td>1.66</td>\n",
       "      <td>Male</td>\n",
       "      <td>No</td>\n",
       "      <td>Sun</td>\n",
       "      <td>Dinner</td>\n",
       "      <td>3</td>\n",
       "    </tr>\n",
       "    <tr>\n",
       "      <th>2</th>\n",
       "      <td>21.01</td>\n",
       "      <td>3.50</td>\n",
       "      <td>Male</td>\n",
       "      <td>No</td>\n",
       "      <td>Sun</td>\n",
       "      <td>Dinner</td>\n",
       "      <td>3</td>\n",
       "    </tr>\n",
       "    <tr>\n",
       "      <th>3</th>\n",
       "      <td>23.68</td>\n",
       "      <td>3.31</td>\n",
       "      <td>Male</td>\n",
       "      <td>No</td>\n",
       "      <td>Sun</td>\n",
       "      <td>Dinner</td>\n",
       "      <td>2</td>\n",
       "    </tr>\n",
       "    <tr>\n",
       "      <th>4</th>\n",
       "      <td>24.59</td>\n",
       "      <td>3.61</td>\n",
       "      <td>Female</td>\n",
       "      <td>No</td>\n",
       "      <td>Sun</td>\n",
       "      <td>Dinner</td>\n",
       "      <td>4</td>\n",
       "    </tr>\n",
       "  </tbody>\n",
       "</table>\n",
       "</div>"
      ],
      "text/plain": [
       "   total_bill   tip     sex smoker  day    time  size\n",
       "0       16.99  1.01  Female     No  Sun  Dinner     2\n",
       "1       10.34  1.66    Male     No  Sun  Dinner     3\n",
       "2       21.01  3.50    Male     No  Sun  Dinner     3\n",
       "3       23.68  3.31    Male     No  Sun  Dinner     2\n",
       "4       24.59  3.61  Female     No  Sun  Dinner     4"
      ]
     },
     "execution_count": 5,
     "metadata": {},
     "output_type": "execute_result"
    }
   ],
   "source": [
    "tips = sns.load_dataset('tips')\n",
    "tips.head(5)"
   ]
  },
  {
   "cell_type": "markdown",
   "metadata": {},
   "source": [
    "Seaborn helps us achieve beautiful plots using both `pandas` and `matplotlib` but with much fewer lines of code.  The first function listed in both the Seaborn tutorial and the API documenation is `sns.relplot`, so our dive into Seaborn will begin there.  To demonstrate this, we can recreate the pair-wise scatterplot above with the following single line of code:"
   ]
  },
  {
   "cell_type": "code",
   "execution_count": 6,
   "metadata": {},
   "outputs": [
    {
     "name": "stderr",
     "output_type": "stream",
     "text": [
      "C:\\Users\\rmann\\Anaconda3\\lib\\site-packages\\scipy\\stats\\stats.py:1713: FutureWarning: Using a non-tuple sequence for multidimensional indexing is deprecated; use `arr[tuple(seq)]` instead of `arr[seq]`. In the future this will be interpreted as an array index, `arr[np.array(seq)]`, which will result either in an error or a different result.\n",
      "  return np.add.reduce(sorted[indexer] * weights, axis=axis) / sumval\n"
     ]
    },
    {
     "data": {
      "text/plain": [
       "<seaborn.axisgrid.PairGrid at 0x1ddd1de1da0>"
      ]
     },
     "execution_count": 6,
     "metadata": {},
     "output_type": "execute_result"
    },
    {
     "data": {
      "image/png": "[encoded data removed]",
      "text/plain": [
       "<Figure size 804.75x720 with 20 Axes>"
      ]
     },
     "metadata": {
      "needs_background": "light"
     },
     "output_type": "display_data"
    }
   ],
   "source": [
    "sns.pairplot(iris_df, hue=\"species\", markers=[\"o\", \"s\", \"D\"])"
   ]
  },
  {
   "cell_type": "markdown",
   "metadata": {},
   "source": [
    "#### Task 2a Load Data\n",
    "\n",
    "<span style=\"float:right; margin-left:10px; clear:both;\">![Task](http://icons.iconarchive.com/icons/sbstnblnd/plateau/96/Apps-gnome-info-icon.png)\n",
    "</span>\n",
    "\n",
    "+ View available datasets by calling `sns.get_dataset_names`.\n",
    "+ Choose one of those datasets to use for the tasks in this notebook.\n",
    "+ Examine the dataframe.\n",
    "    + What is the shape?\n",
    "    + What are the columns?\n",
    "    + What are the data types?"
   ]
  },
  {
   "cell_type": "markdown",
   "metadata": {},
   "source": [
    "#### Task 2b Preview Seaborn\n",
    "\n",
    "<span style=\"float:right; margin-left:10px; clear:both;\">![Task](http://icons.iconarchive.com/icons/sbstnblnd/plateau/96/Apps-gnome-info-icon.png)\n",
    "</span>\n",
    "\n",
    "Take some time to peruse the Seaborn [example gallary](https://seaborn.pydata.org/examples/index.html).  Provide a list of some types of plots that will be useful for your research and possibly for your final project:"
   ]
  },
  {
   "cell_type": "markdown",
   "metadata": {},
   "source": [
    "---\n",
    "## 3. Visualizing Relationships\n",
    "\n",
    "***Note:*** The following instructions are derived from content on Seaborn's \n",
    "[Visualization statistical relationships](https://seaborn.pydata.org/tutorial/relational.html) page.\n",
    "\n",
    "Seaborn provides three functions for plotting relationships between data: `relplot`, `scatterplot` and `lineplot`.  In practice, we can use the `replot` function to create both scatterplots and line plots. By default it provides a scatterplot.\n",
    "\n",
    "To use `sns.relplot` we must provide the data to be plotted using the `data` parameter, while `x` and `y` data points are delineated by their column labels in the data. As an example, let's explore the tips data provided by Seaborn using the `sns.relplot` function. We imported the data in section 2, therefore, as a reminder, let's examine the data:"
   ]
  },
  {
   "cell_type": "code",
   "execution_count": null,
   "metadata": {},
   "outputs": [],
   "source": [
    "tips.head()"
   ]
  },
  {
   "cell_type": "markdown",
   "metadata": {},
   "source": [
    "Now, let's plot the relationship between the tip and total bill:"
   ]
  },
  {
   "cell_type": "code",
   "execution_count": null,
   "metadata": {},
   "outputs": [],
   "source": [
    "sns.relplot(x=\"total_bill\", y=\"tip\", data=tips);"
   ]
  },
  {
   "cell_type": "markdown",
   "metadata": {},
   "source": [
    "### 3.1 The `hue` semantic\n",
    "\n",
    "Scatterplots only show relationships between two variables, but it is often useful to display other dimensions and these can be shown using colors.  We can do highlight a 3rd dimension using hte `hue` argument of `relplot`. The tutorial notes:\n",
    "\n",
    "> While the points are plotted in two dimensions, another dimension can be added to the plot by coloring the points according to a third variable. In seaborn, this is referred to as using a “hue semantic”, because the color of the point gains meaning:\n",
    "\n",
    "To examine if there is a relationship between men and women who tip, we can add the `hue` argument and set that to be the label for the `sex` column of tips dataframe:"
   ]
  },
  {
   "cell_type": "code",
   "execution_count": null,
   "metadata": {},
   "outputs": [],
   "source": [
    "sns.relplot(x=\"total_bill\", y=\"tip\", hue=\"sex\", data=tips);"
   ]
  },
  {
   "cell_type": "markdown",
   "metadata": {},
   "source": [
    "### 3.2  The `style` semantic\n",
    "\n",
    "Additional dimensions of the data can be shown using the `style` argument of `sns.relplot`.  It works in the same was as the `hue` argument but instead changes the style of the points in the plot.  The tutorial notes:\n",
    "\n",
    "> To emphasize the difference between the classes, and to improve accessibility, you can use a different marker style for each class:\n",
    "\n",
    "Let's change the style of the points dependent if the tipper is a smoker or not:"
   ]
  },
  {
   "cell_type": "code",
   "execution_count": null,
   "metadata": {},
   "outputs": [],
   "source": [
    "sns.relplot(x=\"total_bill\", y=\"tip\", style=\"smoker\", data=tips);"
   ]
  },
  {
   "cell_type": "markdown",
   "metadata": {},
   "source": [
    "We can also combine both the `style` and `hue` semantics into a single plot:"
   ]
  },
  {
   "cell_type": "code",
   "execution_count": null,
   "metadata": {},
   "outputs": [],
   "source": [
    "sns.relplot(x=\"total_bill\", y=\"tip\", hue=\"smoker\", style=\"time\", data=tips);"
   ]
  },
  {
   "cell_type": "markdown",
   "metadata": {},
   "source": [
    "### 3.3 The `size` semantic\n",
    "Just like the `hue` and `style` we can change the size of the points as well using the `size` argument.  Again, we will provide the label for the column that contains the size information.  The tips data from Seaborn conveniently comes with a column named `size`.  For other datasets you will have to prepare a size column for the data frame.  Let's apply the size:"
   ]
  },
  {
   "cell_type": "code",
   "execution_count": null,
   "metadata": {},
   "outputs": [],
   "source": [
    "sns.relplot(x=\"total_bill\", y=\"tip\", size=\"size\", data=tips);"
   ]
  },
  {
   "cell_type": "markdown",
   "metadata": {},
   "source": [
    "### 3.4 Setting the height and width of the plot\n",
    "You can control the height and widght of the plot by providing the `height` and `aspect` arguments to `replot`.  The `height` is provided in inches and the `aspect` argument is a factor multipled by the provided height to set the width:\n",
    "\n",
    "```\n",
    "  width = aspect * height\n",
    "```\n",
    "\n",
    "As an example, we can scale the width of the plot to be twice the height:"
   ]
  },
  {
   "cell_type": "code",
   "execution_count": null,
   "metadata": {},
   "outputs": [],
   "source": [
    "sns.relplot(x=\"total_bill\", y=\"tip\", size=\"size\", data=tips, aspect=2);"
   ]
  },
  {
   "cell_type": "markdown",
   "metadata": {},
   "source": [
    "#### Task 3a: Using `replotlib`\n",
    "\n",
    "<span style=\"float:right; margin-left:10px; clear:both;\">![Task](http://icons.iconarchive.com/icons/sbstnblnd/plateau/96/Apps-gnome-info-icon.png)\n",
    "</span>\n",
    "\n",
    "Experiment with the `size`, `hue` and `style` semantics by applying them to another example dataset of your choice.\n",
    "\n",
    "*You should produce three or more plots for this task.*"
   ]
  },
  {
   "cell_type": "markdown",
   "metadata": {},
   "source": [
    "---\n",
    "## 4. Aesthetics\n",
    "You can control various aspects of the look-and-feel of your plots.  Seaborn provides professional looking aesthetics that you can control including the plot dimensions (size and aspect), built-in attractive styles, and color pa\\lettes. Visit the [Seaborn aesthetics documentation](https://seaborn.pydata.org/tutorial/aesthetics.html) to learn more.  There are two types of aesthetics that Seaborn provides:\n",
    "\n",
    "1. parameters to control the style of the plot\n",
    "2. parameters for scaling of elements in the plot\n",
    "\n",
    "As indicated in the online documentation: \n",
    "> The interface for manipulating [aesthetics] parameters are two pairs of functions. To control the style, use the `axes_style()` and `set_style()` functions. To scale the plot, use the `plotting_context()` and `set_context()` functions. In both cases, the first function returns a dictionary of parameters and the second sets the matplotlib defaults.\n",
    "\n",
    "\n"
   ]
  },
  {
   "cell_type": "markdown",
   "metadata": {},
   "source": [
    "To explore the list of styles that are currently set for the plot we can use call the `sns.axes_style()` function:"
   ]
  },
  {
   "cell_type": "code",
   "execution_count": null,
   "metadata": {},
   "outputs": [],
   "source": [
    "sns.axes_style()"
   ]
  },
  {
   "cell_type": "markdown",
   "metadata": {},
   "source": [
    "To explore the list of parameters that can be used to scale elements of the plat we can call `sns.plotting_context` function"
   ]
  },
  {
   "cell_type": "code",
   "execution_count": null,
   "metadata": {},
   "outputs": [],
   "source": [
    "sns.plotting_context()"
   ]
  },
  {
   "cell_type": "markdown",
   "metadata": {},
   "source": [
    "### 4.1 Built-in Figure Styles\n",
    "\n",
    "Seaborn provides five built-in styles for figures:\n",
    "\n",
    "+ darkgrid\n",
    "+ whitegrid\n",
    "+ dark\n",
    "+ white\n",
    "+ ticks\n",
    "\n",
    "The default is 'darkgrid', but you can select from any of these to suit your preference or the need for a given plot. We can set a style using the `sns.set_style()` function prior to creating the plot. Then we can explore the new dictionary of parameters with `sns.axes_style()`."
   ]
  },
  {
   "cell_type": "code",
   "execution_count": null,
   "metadata": {},
   "outputs": [],
   "source": [
    "# Set the style.\n",
    "sns.set_style('whitegrid')\n",
    "\n",
    "# View the style dictionary.\n",
    "sns.axes_style()            "
   ]
  },
  {
   "cell_type": "markdown",
   "metadata": {},
   "source": [
    "Let's create the plot."
   ]
  },
  {
   "cell_type": "code",
   "execution_count": null,
   "metadata": {},
   "outputs": [],
   "source": [
    "sns.relplot(x=\"total_bill\", y=\"tip\", size=\"size\", data=tips);"
   ]
  },
  {
   "cell_type": "markdown",
   "metadata": {},
   "source": [
    "Observe that we now have grid lines."
   ]
  },
  {
   "cell_type": "markdown",
   "metadata": {},
   "source": [
    "#### Task 4a: Explore built-in styles\n",
    "\n",
    "<span style=\"float:right; margin-left:10px; clear:both;\">![Task](http://icons.iconarchive.com/icons/sbstnblnd/plateau/96/Apps-gnome-info-icon.png)\n",
    "</span>\n",
    "\n",
    "Using a dataset of your choice, practice creating a plot for each of these different styles:\n",
    "\n",
    "+ darkgrid\n",
    "+ whitegrid\n",
    "+ dark\n",
    "+ white\n",
    "+ ticks"
   ]
  },
  {
   "cell_type": "markdown",
   "metadata": {},
   "source": [
    "### 4.2 Modifying Built-in Styles\n",
    "\n",
    "Sometimes the built-in style may need adjustments to suit your liking or the needs of a plot.  You can customize any style using the `sns.set_style` function.  It is often easier to start with a built-in style and modify it for a given purpose. To do this, we pass a Python dictionary as the second argument. The dictionary should specify the style changes. For example, suppose we wanted a darker background?"
   ]
  },
  {
   "cell_type": "code",
   "execution_count": null,
   "metadata": {},
   "outputs": [],
   "source": [
    "# Create a dictionary with the style settings we wantto adjust.\n",
    "custom_style = {'figure.facecolor': 'white',\n",
    "                'axes.facecolor': 'black'}\n",
    "\n",
    "# Call the set_style function to start with the darkgrid style, but pass in our adjustements.\n",
    "sns.set_style(\"darkgrid\", custom_style)\n",
    "\n",
    "# Create the plot.\n",
    "sns.relplot(x=\"total_bill\", y=\"tip\", hue=\"size\", data=tips);"
   ]
  },
  {
   "cell_type": "markdown",
   "metadata": {},
   "source": [
    "To reset the style to default, simply call `sns.set()`."
   ]
  },
  {
   "cell_type": "code",
   "execution_count": null,
   "metadata": {},
   "outputs": [],
   "source": [
    "sns.set()  \n",
    "sns.relplot(x=\"total_bill\", y=\"tip\", hue=\"size\", data=tips);"
   ]
  },
  {
   "cell_type": "markdown",
   "metadata": {},
   "source": [
    "### 4.3 Color Palettes\n",
    "\n",
    "Color choices are **very** important for conveying meaning, and how to go about choosing 'good' colors is not immediately obvious. Also, when creating figures for publication is is important to consider that some indivduals are color blind and may have difficulty with specific colors.  NASA has [compiled an informative document](https://earthobservatory.nasa.gov/blogs/elegantfigures/2013/08/05/subtleties-of-color-part-1-of-6/), providing recommended color palettes.  These are already implemented in `matplotlib`, `seaborn` and other packages.\n",
    "\n",
    "\n",
    "For an additional reference on Seaborn color palettes see: [Seaborn color palettes](https://seaborn.pydata.org/tutorial/color_palettes.html).  Additionally, [Online tools](http://colorbrewer2.org/#type=sequential&scheme=BuGn&n=3) can help develop color maps can be found.\n",
    "\n",
    "\n",
    "Let's first examine the default palette provided by Seaborn.  This can be returned with a call to `sns.color_palette()`."
   ]
  },
  {
   "cell_type": "code",
   "execution_count": null,
   "metadata": {},
   "outputs": [],
   "source": [
    "sns.color_palette()"
   ]
  },
  {
   "cell_type": "markdown",
   "metadata": {},
   "source": [
    "The palette is represented in an array of tuples where each tuple is a color and contains three numbers.  Computers use 3 numbers to represent colors, each corresponding to a specific shade of red, green and blue.  Seaborn provides those numbers between the values of 0 and 1. Below is a list of fully saturated colors (e.g. at least one number in the tuple is set to 1) and its meaning:\n",
    "\n",
    "- (0, 0, 0): black\n",
    "- (1, 1, 1): white\n",
    "- (1, 0, 0): red\n",
    "- (0, 1, 0): green\n",
    "- (0, 0, 1): blue\n",
    "- (1, 1, 0): yellow\n",
    "- (0, 1, 1): cyan\n",
    "- (1, 0, 1): purple\n",
    "- etc.,\n",
    "\n",
    "Fortunately, we have a convenience function named `sns.palplot` to view these colors:"
   ]
  },
  {
   "cell_type": "code",
   "execution_count": null,
   "metadata": {},
   "outputs": [],
   "source": [
    "sns.palplot([(0,0,0), (1,1,1), (1,0,0), (0,1,0), (0,0,1), (1,1,0), (0,1,1), (1,0,1)])"
   ]
  },
  {
   "cell_type": "markdown",
   "metadata": {},
   "source": [
    "Let's use the `sns.palplot` to examine the default Seaborn palette:"
   ]
  },
  {
   "cell_type": "code",
   "execution_count": null,
   "metadata": {},
   "outputs": [],
   "source": [
    "sns.palplot(sns.color_palette())"
   ]
  },
  {
   "cell_type": "markdown",
   "metadata": {},
   "source": [
    "Let's examine the tips scatterplot to observe the colors."
   ]
  },
  {
   "cell_type": "code",
   "execution_count": null,
   "metadata": {},
   "outputs": [],
   "source": [
    "sns.relplot(x=\"total_bill\", y=\"tip\", hue=\"sex\", data=tips);"
   ]
  },
  {
   "cell_type": "markdown",
   "metadata": {},
   "source": [
    "Observe that the colors are used in order that they appear in the palette."
   ]
  },
  {
   "cell_type": "markdown",
   "metadata": {},
   "source": [
    "Seaborn has a short list of built-in palettes:\n",
    "```python\n",
    "['deep', 'muted', 'bright', 'pastel', 'dark', 'colorblind']\n",
    "```\n",
    "We can create a a palette of of colors from any of these categories by calling the `sns.color_palette` function, passing the palette name and the number of colors from that palette that we need.  For the tips data, if we want to use the `bright` palette we must use two colors--one for each sex:\n"
   ]
  },
  {
   "cell_type": "code",
   "execution_count": null,
   "metadata": {},
   "outputs": [],
   "source": [
    "sns.color_palette('bright', 2)"
   ]
  },
  {
   "cell_type": "markdown",
   "metadata": {},
   "source": [
    "***Note:*** recall that Seaborn is a set of wrapper functions for `matplotlib`, so it should not be a suprise that we can use any `matplotlib` color map, which you can find [here](https://matplotlib.org/tutorials/colors/colormaps.html).\n",
    "\n",
    "Let's try again creating a plot with a dark-background plot but with a more vibrant palette of colors.  You set a palette for a plot by providing it to the plotting function.  In the case of the `sns.replopt` function we can provide colos using the `palette` argument.  First let's use a palette from Seaborn. Let's color the tips data by the size amounts.  From previous plots we know we have 6 colors:"
   ]
  },
  {
   "cell_type": "code",
   "execution_count": null,
   "metadata": {},
   "outputs": [],
   "source": [
    "# Create a dictionary with the style settings we wantto adjust.\n",
    "custom_style = {'figure.facecolor': 'white',\n",
    "                'axes.facecolor': 'black'}\n",
    "\n",
    "# Call the set_style function to start with the darkgrid style, but pass in our adjustements.\n",
    "sns.set_style(\"darkgrid\", custom_style)\n",
    "\n",
    "# Create the plot.\n",
    "colors=sns.color_palette('bright', 6)\n",
    "sns.relplot(x=\"total_bill\", y=\"tip\", hue=\"size\", data=tips, palette=colors);"
   ]
  },
  {
   "cell_type": "markdown",
   "metadata": {},
   "source": [
    "If we provide palettes with names, such as from matplot lib we don't need to know how many colors are required. Here, we'll use the 'Accent' palette from matplotlib:"
   ]
  },
  {
   "cell_type": "code",
   "execution_count": null,
   "metadata": {},
   "outputs": [],
   "source": [
    "# Create a dictionary with the style settings we wantto adjust.\n",
    "custom_style = {'figure.facecolor': 'white',\n",
    "                'axes.facecolor': 'black'}\n",
    "\n",
    "# Call the set_style function to start with the darkgrid style, but pass in our adjustements.\n",
    "sns.set_style(\"darkgrid\", custom_style)\n",
    "\n",
    "# Create the plot.\n",
    "sns.relplot(x=\"total_bill\", y=\"tip\", hue=\"size\", data=tips, palette='Accent');"
   ]
  },
  {
   "cell_type": "markdown",
   "metadata": {},
   "source": [
    "Before continuing let's rest our plots style"
   ]
  },
  {
   "cell_type": "code",
   "execution_count": null,
   "metadata": {},
   "outputs": [],
   "source": [
    "sns.set()"
   ]
  },
  {
   "cell_type": "markdown",
   "metadata": {},
   "source": [
    "### 4.4 Temporarily setting a style\n",
    "\n",
    "At the end of the previous section we had to remember to reset any style changes that we made using a call to `sns.set`.  However, we can use a  `with` statement to [temporarily set a figure style](https://seaborn.pydata.org/tutorial/aesthetics.html#temporarily-setting-figure-style). This feature allows for any style changes to be lost upon exiting the `with` context manager.  For example:"
   ]
  },
  {
   "cell_type": "code",
   "execution_count": null,
   "metadata": {},
   "outputs": [],
   "source": [
    "# Create style dictionary:\n",
    "my_style_options = {'figure.facecolor': 'white',\n",
    "                    'axes.facecolor': 'black'}\n",
    "\n",
    "# Apply style changes temporarily.\n",
    "with sns.axes_style(\"darkgrid\", rc=my_style_options):\n",
    "    sns.relplot(x=\"total_bill\", y=\"tip\", hue=\"size\", data=tips, \n",
    "                palette='Accent',    # Change the color.\n",
    "                edgecolor=\"none\",  # Remove the white outline.\n",
    "                height=7, aspect=1.2); "
   ]
  },
  {
   "cell_type": "markdown",
   "metadata": {},
   "source": [
    "There are context managers for color palettes and figure styles that can be used as well, see:\n",
    "+ [sns.plotting_context](https://seaborn.pydata.org/generated/seaborn.plotting_context.html#seaborn.plotting_context)\n",
    "+ [sns.color_palette](https://seaborn.pydata.org/generated/seaborn.color_palette.html#seaborn.color_palette)\n",
    "+ [sns.axes_style](https://seaborn.pydata.org/generated/seaborn.axes_style.html#seaborn.axes_style)"
   ]
  },
  {
   "cell_type": "markdown",
   "metadata": {},
   "source": [
    "#### Task 4b\n",
    "\n",
    "<span style=\"float:right; margin-left:10px; clear:both;\">![Task](http://icons.iconarchive.com/icons/sbstnblnd/plateau/96/Apps-gnome-info-icon.png)\n",
    "</span>\n",
    "\n",
    "Experiment with the style options and palettes introduced above. Create and demonstrate a style of your own using a dataset of your choice."
   ]
  },
  {
   "cell_type": "markdown",
   "metadata": {},
   "source": [
    "## 5. Wrap-up\n",
    "\n",
    "During this tutorial we covered only the `sns.retplot` function.  However, Seaborn offers a variety of  functions for different types of plots.  For Task 2b you explored some examples in the Seaborn Gallery. Now that you know the basics you should be able to apply what you have learned to other types of plots. "
   ]
  },
  {
   "cell_type": "markdown",
   "metadata": {},
   "source": [
    "### Task 5a\n",
    "\n",
    "<span style=\"float:right; margin-left:10px; clear:both;\">![Task](http://icons.iconarchive.com/icons/sbstnblnd/plateau/96/Apps-gnome-info-icon.png)\n",
    "</span>\n",
    "\n",
    "Examine the [Seaborn gallery](https://seaborn.pydata.org/examples/index.html) and find **two to four plots** types that interest you. Re-create a version of those plots using a different data set (make any other style changes you wish).\n",
    "\n",
    "*Complete as much as this task as you can, try for at least two complete plots. If you need some help in class that is completely fine, but be prepared to describe what you are trying to do, and what you tried, as well as the error or problem you observe.*"
   ]
  }
 ],
 "metadata": {
  "kernelspec": {
   "display_name": "Python 3",
   "language": "python",
   "name": "python3"
  },
  "language_info": {
   "codemirror_mode": {
    "name": "ipython",
    "version": 3
   },
   "file_extension": ".py",
   "mimetype": "text/x-python",
   "name": "python",
   "nbconvert_exporter": "python",
   "pygments_lexer": "ipython3",
   "version": "3.7.1"
  }
 },
 "nbformat": 4,
 "nbformat_minor": 2
}
