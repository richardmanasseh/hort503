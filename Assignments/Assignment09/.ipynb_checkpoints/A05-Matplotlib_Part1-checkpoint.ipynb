{
 "cells": [
  {
   "cell_type": "markdown",
   "metadata": {},
   "source": [
    "# Assignment 9, Part 1: Matplotlib\n",
    "\n",
    "*Introduction to basic plotting using matplotlib.*\n",
    "\n",
    "## Instructions\n",
    "This tutorial provides step-by-step training divided into numbered sections. The sections often contain embeded exectable code for demonstration.  This tutorial is accompanied by a practice notebook with the exact same name but with a `-Practice` suffix.  Throughout this tutorial sections labeled \"Practice Task\" are interspersed and indicated with the icon: ![Task](http://icons.iconarchive.com/icons/sbstnblnd/plateau/16/Apps-gnome-info-icon.png).\n",
    "\n",
    "You should follow the instructions provided in these sections by performing them in the practice notebook.  When the tutorial is completed you can turn in the final practice notebook. \n",
    "\n",
    "\n",
    "## Introduction\n",
    "\n",
    "**What is `Matplotlib`?**\n",
    "\n",
    "> Matplotlib is a Python 2D plotting library which produces publication quality figures in a variety of hardcopy formats and interactive environments across platforms. Matplotlib can be used in Python scripts, the Python and IPython shells, the Jupyter notebook, web application servers, and four graphical user interface toolkits.\n",
    "\n",
    "`Matplotlib` will be our introduction to the world of displaying data in Python. It is part of the same family of packages as `numpy` and `pandas` in that they are  all supported by the *NumFOCUS* project."
   ]
  },
  {
   "cell_type": "markdown",
   "metadata": {},
   "source": [
    "### Package Overview\n",
    "\n",
    "**What tools, objects or functions does this package provide?**\n",
    "\n",
    "The hierarchy of objects and functions is not as simple or as delinated as we observed in `numpy` or `pandas`, but we get a few major objects from `matplotlib`.\n",
    "\n",
    "+ `Figure`\n",
    "+ `Axes`\n",
    "+ `Artist` - *Not a common google-term.*\n",
    "\n",
    "We will almost entirely concern ourselves with the `Figure` and `Axes` objects."
   ]
  },
  {
   "cell_type": "markdown",
   "metadata": {},
   "source": [
    "### Other Learning Resources\n",
    "\n",
    "+ [DataCamp Cheat Sheet](https://s3.amazonaws.com/assets.datacamp.com/blog_assets/Python_Matplotlib_Cheat_Sheet.pdf)\n",
    "+ [Official User's Guide](https://matplotlib.org/users/index.html)"
   ]
  },
  {
   "cell_type": "markdown",
   "metadata": {},
   "source": [
    "## Coding Styles\n",
    "\n",
    "There are two ways to write your code using the matplotlib library. These are referred to as:\n",
    "- the Pyplot API approach\n",
    "- the object-oriented API approach.\n",
    "\n",
    "In this tutorial we will teach the object-oriented API approach. You will often find online documentation using the Pyplot approach. The Pyplot approach may be easier to work with initially, but the object-oriented approach is more flexible. In fact, the documenation states:\n",
    "\n",
    "> the pyplot API is generally less-flexible than the object-oriented API."
   ]
  },
  {
   "cell_type": "markdown",
   "metadata": {},
   "source": [
    "---\n",
    "## 1. Getting Started\n",
    "\n",
    "As before, we import any needed packages at the top of our notebook. This time we will import `numpy`, `pandas` and `matplotlib`.\n",
    "\n",
    "The first thing you will notice is that our style of importing for `matplotlib` is a little different. Unlike other packages, we import `matplotlib.pyplot` instead of just `matplotlib`.  We will refer to this library as simply `Pyplot`. Therefore, function calls are from the `Pyplot` library. The documentation notes the following:\n",
    "\n",
    ">`Pyplot` provides the state-machine interface to the underlying object-oriented plotting library. The state-machine implicitly and automatically creates figures and axes to achieve the desired plot. \n",
    "\n",
    "Another thing to note when working interactively (in a jupyter notebook) is a `magic` command that will instruct the Jupyter instance to display `matplotlib` plots inline."
   ]
  },
  {
   "cell_type": "markdown",
   "metadata": {},
   "source": [
    "Let's get started by importing the required libraries and setting the magic for inline plots."
   ]
  },
  {
   "cell_type": "code",
   "execution_count": 2,
   "metadata": {},
   "outputs": [],
   "source": [
    "import numpy as np\n",
    "import pandas as pd\n",
    "import matplotlib.pyplot as plt\n",
    "%matplotlib inline"
   ]
  },
  {
   "cell_type": "markdown",
   "metadata": {},
   "source": [
    "The iris dataframe that we used in the Pandas tutorials will serve as our demo data to plot, load that here:"
   ]
  },
  {
   "cell_type": "code",
   "execution_count": 3,
   "metadata": {},
   "outputs": [
    {
     "data": {
      "text/html": [
       "<div>\n",
       "<style scoped>\n",
       "    .dataframe tbody tr th:only-of-type {\n",
       "        vertical-align: middle;\n",
       "    }\n",
       "\n",
       "    .dataframe tbody tr th {\n",
       "        vertical-align: top;\n",
       "    }\n",
       "\n",
       "    .dataframe thead th {\n",
       "        text-align: right;\n",
       "    }\n",
       "</style>\n",
       "<table border=\"1\" class=\"dataframe\">\n",
       "  <thead>\n",
       "    <tr style=\"text-align: right;\">\n",
       "      <th></th>\n",
       "      <th>sepal_length</th>\n",
       "      <th>sepal_width</th>\n",
       "      <th>petal_length</th>\n",
       "      <th>petal_width</th>\n",
       "      <th>species</th>\n",
       "    </tr>\n",
       "  </thead>\n",
       "  <tbody>\n",
       "    <tr>\n",
       "      <th>0</th>\n",
       "      <td>5.1</td>\n",
       "      <td>3.5</td>\n",
       "      <td>1.4</td>\n",
       "      <td>0.2</td>\n",
       "      <td>setosa</td>\n",
       "    </tr>\n",
       "    <tr>\n",
       "      <th>1</th>\n",
       "      <td>4.9</td>\n",
       "      <td>3.0</td>\n",
       "      <td>1.4</td>\n",
       "      <td>0.2</td>\n",
       "      <td>setosa</td>\n",
       "    </tr>\n",
       "  </tbody>\n",
       "</table>\n",
       "</div>"
      ],
      "text/plain": [
       "   sepal_length  sepal_width  petal_length  petal_width species\n",
       "0           5.1          3.5           1.4          0.2  setosa\n",
       "1           4.9          3.0           1.4          0.2  setosa"
      ]
     },
     "execution_count": 3,
     "metadata": {},
     "output_type": "execute_result"
    }
   ],
   "source": [
    "df = pd.read_csv('data/iris.csv')\n",
    "df.head(2)"
   ]
  },
  {
   "cell_type": "markdown",
   "metadata": {},
   "source": [
    "#### Task 1a: Setup\n",
    "\n",
    "<span style=\"float:right; margin-left:10px; clear:both;\">![Task](http://icons.iconarchive.com/icons/sbstnblnd/plateau/96/Apps-gnome-info-icon.png)\n",
    "</span>\n",
    "\n",
    "Import the following packages:\n",
    "+ `pandas` as `pd`\n",
    "+ `numpy` as `np`\n",
    "+ `matplotlib.pyplot` as `plt`\n",
    "\n",
    "Activate the `%matplotlib inline` magic."
   ]
  },
  {
   "cell_type": "markdown",
   "metadata": {},
   "source": [
    "#### Task 1b: Load Data\n",
    "\n",
    "<span style=\"float:right; margin-left:10px; clear:both;\">![Task](http://icons.iconarchive.com/icons/sbstnblnd/plateau/96/Apps-gnome-info-icon.png)\n",
    "</span>\n",
    "\n",
    "Load the Iris data (same as in the Pandas tasks).\n"
   ]
  },
  {
   "cell_type": "markdown",
   "metadata": {},
   "source": [
    "### 1.1 Required Data Types\n",
    "\n",
    "All of the plotting functions provided by `Pyplot` expect Numpy arrays as input. If your data is in Pandas series or data frames it is best to convert them first to Numpy arrays before you plot.  Recall that we can convert any column of a data frame to a Numpy array. Each column is a `pd.Series` which we can get from the `DataFrame` by its label, and then convert the series to a `np.array` using the `values` property or the `to_array()` function.  For example, the following code demonstrates that the `.values` property of a column from our iris data is a Numpy array:"
   ]
  },
  {
   "cell_type": "code",
   "execution_count": null,
   "metadata": {},
   "outputs": [],
   "source": [
    "type(df['sepal_length'].values)"
   ]
  },
  {
   "cell_type": "markdown",
   "metadata": {},
   "source": [
    "## 2. The `Figure`\n",
    "\n",
    "To get started, examine and execute the code below. It creates a scatterplot of the `sepal_length` vs `sepal_width` from the iris dataset. The code performs three tasks (we will explain these in more detail later):\n",
    "- It creates a new figure object\n",
    "- Adds an axes to the figure as part of a \"subplot\" arrangement.\n",
    "- Plots a scatterplot between two Numpy arrays of data:\n"
   ]
  },
  {
   "cell_type": "code",
   "execution_count": 7,
   "metadata": {},
   "outputs": [
    {
     "data": {
      "image/png": "[encoded data removed]",
      "text/plain": [
       "<Figure size 432x288 with 1 Axes>"
      ]
     },
     "metadata": {
      "needs_background": "light"
     },
     "output_type": "display_data"
    }
   ],
   "source": [
    "fig = plt.figure()\n",
    "ax = fig.add_subplot(1, 1, 1)\n",
    "ax.scatter(df['sepal_length'].values, df['sepal_width'].values)"
   ]
  },
  {
   "cell_type": "markdown",
   "metadata": {},
   "source": [
    "Alternatively, the plot above can also be generated in one line:"
   ]
  },
  {
   "cell_type": "code",
   "execution_count": 5,
   "metadata": {},
   "outputs": [
    {
     "ename": "NameError",
     "evalue": "name 'df' is not defined",
     "output_type": "error",
     "traceback": [
      "\u001b[1;31m---------------------------------------------------------------------------\u001b[0m",
      "\u001b[1;31mNameError\u001b[0m                                 Traceback (most recent call last)",
      "\u001b[1;32m<ipython-input-5-efeebf47e38d>\u001b[0m in \u001b[0;36m<module>\u001b[1;34m\u001b[0m\n\u001b[1;32m----> 1\u001b[1;33m \u001b[0mplt\u001b[0m\u001b[1;33m.\u001b[0m\u001b[0mscatter\u001b[0m\u001b[1;33m(\u001b[0m\u001b[0mdf\u001b[0m\u001b[1;33m[\u001b[0m\u001b[1;34m'sepal_length'\u001b[0m\u001b[1;33m]\u001b[0m\u001b[1;33m.\u001b[0m\u001b[0mvalues\u001b[0m\u001b[1;33m,\u001b[0m \u001b[0mdf\u001b[0m\u001b[1;33m[\u001b[0m\u001b[1;34m'sepal_width'\u001b[0m\u001b[1;33m]\u001b[0m\u001b[1;33m.\u001b[0m\u001b[0mvalues\u001b[0m\u001b[1;33m)\u001b[0m\u001b[1;33m;\u001b[0m\u001b[1;33m\u001b[0m\u001b[1;33m\u001b[0m\u001b[0m\n\u001b[0m",
      "\u001b[1;31mNameError\u001b[0m: name 'df' is not defined"
     ]
    }
   ],
   "source": [
    "plt.scatter(df['sepal_length'].values, df['sepal_width'].values);"
   ]
  },
  {
   "cell_type": "markdown",
   "metadata": {},
   "source": [
    "While the second form is useful for simple plots, it can become unwieldy for more copmlex plots. Therefore, for both clarity, and to understand `matplotlib` we will use the more explicit form.  This approach should help in avoiding some pitfalls and confusion.  "
   ]
  },
  {
   "cell_type": "markdown",
   "metadata": {},
   "source": [
    "## 2.1 Parts of a Figure\n",
    "\n",
    "The following figure provided by the [Matplotlib documentation](https://matplotlib.org/2.1.2/tutorials/introductory/usage.html) indicates the location and the names of elements used by this package for the plots it produces.\n",
    "\n",
    "![Parts of a figure](https://matplotlib.org/_images/anatomy.png)\n",
    "\n",
    "> The [Pyplot] figure keeps track of all the child axes, a smattering of 'special' artists (titles, figure legends, etc), and the canvas. (Don't worry too much about the canvas, it is crucial as it is the object that actually does the drawing to get you your plot, but as the user it is more-or-less invisible to you). A figure can have any number of axes, but to be useful should have at least one."
   ]
  },
  {
   "cell_type": "markdown",
   "metadata": {},
   "source": [
    "### 2.2 Creating a Figure\n",
    "To create a figure we must first call the `plt.figure()` function. As shown in the code below we assing our new figure to a variable named `fig`:"
   ]
  },
  {
   "cell_type": "code",
   "execution_count": null,
   "metadata": {},
   "outputs": [],
   "source": [
    "fig = plt.figure()"
   ]
  },
  {
   "cell_type": "markdown",
   "metadata": {},
   "source": [
    "Observe that the fig is a default 'empty' figure of size 432x288 pixels with no axes.  A figure created in this way will be empty.\n",
    "\n",
    "### 2.3 Subplots (a.k.a. Axes)\n",
    "\n",
    "A figure created with matplotlib can have multiple axes. Consider the image below, it contains 4 subplots (i.e. four different axes) arranged in a 2x2 grid:\n",
    "\n",
    "![subplots](https://matplotlib.org/2.1.2/_images/sphx_glr_usage_002.png)\n",
    "\n",
    "To add an `axes` to the figure (named `fig`) we can call a method named `add_axes()`.  If you [read the documenation](https://matplotlib.org/api/_as_gen/matplotlib.figure.Figure.html#matplotlib.figure.Figure.add_axes) of that function you will find that it takes four arguments. However, there are is a convenience function named `add_subplot()` that make it easier to add axis and we will use that instead. You will notice as you learn more about plotting libraries that having convenience functions is common. Using them, we avoid calling a 'lower-level' function. The 'higher-level' convenience function then calls the low-level functions with reasonable defaults.\n",
    "\n",
    "\n",
    "The [add_subplot documentation](https://matplotlib.org/api/_as_gen/matplotlib.figure.Figure.html#matplotlib.figure.Figure.add_subplot) indicates that that `add_subplot` can be called in multple ways:\n",
    "\n",
    "```\n",
    "add_subplot(nrows, ncols, index, **kwargs)\n",
    "add_subplot(pos, **kwargs)\n",
    "add_subplot(ax)\n",
    "```\n",
    "\n",
    "We will use the first form in this tutorial:"
   ]
  },
  {
   "cell_type": "code",
   "execution_count": null,
   "metadata": {},
   "outputs": [],
   "source": [
    "fig = plt.figure()\n",
    "ax = fig.add_subplot(1, 1, 1)"
   ]
  },
  {
   "cell_type": "markdown",
   "metadata": {},
   "source": [
    "The code above provides 1's to the `nrows`, `ncols` and `index` arguments.  This means that our grid is a 1 x 1 grid. The 3rd argument, the `index`, indicates which \"cell\" the axes will be drawn in. Since we only have one \"cell\" this argument is 1."
   ]
  },
  {
   "cell_type": "markdown",
   "metadata": {},
   "source": [
    "### 2.4 Plotting\n",
    "\n",
    "Now that we have indicated the plots and added axes, we want to add a plot.  To demonstrate this we will add a scatterplot using data from the iris dataset.  To add points we call the `scatter()` method from the `axes` object we created.  This draws the given points to the `ax` object."
   ]
  },
  {
   "cell_type": "code",
   "execution_count": null,
   "metadata": {},
   "outputs": [],
   "source": [
    "fig = plt.figure()\n",
    "ax = fig.add_subplot(1, 1, 1)\n",
    "ax.scatter(df['sepal_length'].values, df['sepal_width'].values)\n",
    "plt.show()"
   ]
  },
  {
   "cell_type": "markdown",
   "metadata": {},
   "source": [
    "***Note:*** Adding `plt.show()` at the end of the cell removes the object `__repr__` output (e.g.: `<matplotlib.collections.PathCollection at 0x7fcd440985f8>`). Practice removing it from the cell above to observe the difference.\n",
    "\n",
    "To make our plot more readable, we can add axes labels using the `set_xlabel` and `set_ylabel` functions:"
   ]
  },
  {
   "cell_type": "code",
   "execution_count": null,
   "metadata": {},
   "outputs": [],
   "source": [
    "fig = plt.figure()\n",
    "ax = fig.add_subplot(1, 1, 1)\n",
    "ax.scatter(df['sepal_length'].values, df['sepal_width'].values)\n",
    "plt.show()"
   ]
  },
  {
   "cell_type": "markdown",
   "metadata": {},
   "source": [
    "### 2.5 Setting axes and plot titles\n",
    "We can add titles to both our axes and to the entire plot using these functions:\n",
    "- For axes:\n",
    "  - `set_xlabel`\n",
    "  - `set_ylabel`\n",
    "- For the figure:\n",
    "  - `suptitle`\n",
    "- For a subplot (axes):\n",
    "  - `set_title`\n",
    "\n",
    "As an example, let's add titles to the axes of the iris plot from the previous section:"
   ]
  },
  {
   "cell_type": "code",
   "execution_count": null,
   "metadata": {},
   "outputs": [],
   "source": [
    "# Create the scatterplot \n",
    "fig = plt.figure()\n",
    "ax = fig.add_subplot(1, 1, 1)\n",
    "ax.scatter(df['sepal_length'].values, df['sepal_width'].values)\n",
    "\n",
    "# Add axes titles\n",
    "ax.axes.set_xlabel('Sepal Length')\n",
    "ax.axes.set_ylabel('Sepal Width')\n",
    "\n",
    "# Show a clean plot\n",
    "plt.show()"
   ]
  },
  {
   "cell_type": "markdown",
   "metadata": {},
   "source": [
    "Now let's add a title to our figure:"
   ]
  },
  {
   "cell_type": "code",
   "execution_count": null,
   "metadata": {},
   "outputs": [],
   "source": [
    "# Create the scatterplot \n",
    "fig = plt.figure()\n",
    "ax = fig.add_subplot(1, 1, 1)\n",
    "ax.scatter(df['sepal_length'].values, df['sepal_width'].values)\n",
    "\n",
    "# Add axes titles\n",
    "ax.axes.set_xlabel('Sepal Length')\n",
    "ax.axes.set_ylabel('Sepal Width')\n",
    "\n",
    "# Add a figure title\n",
    "ax.set_title('Sepal length vs width')\n",
    "\n",
    "# Show a clean plot\n",
    "plt.show()"
   ]
  },
  {
   "cell_type": "markdown",
   "metadata": {},
   "source": [
    "The `set_suptitle` is used to set a title to the figure when more than one subplot (axes) is present. We will see this function used in section 4 below."
   ]
  },
  {
   "cell_type": "markdown",
   "metadata": {},
   "source": [
    "#### Task 2a: Create a figure\n",
    "\n",
    "<span style=\"float:right; margin-left:10px; clear:both;\">![Task](http://icons.iconarchive.com/icons/sbstnblnd/plateau/96/Apps-gnome-info-icon.png)\n",
    "</span>\n",
    "\n",
    "Create the a scatter plot using the iris data, but compare `petal_width` to `petal_length`.  Be sure to add labels to the axes.\n"
   ]
  },
  {
   "cell_type": "markdown",
   "metadata": {},
   "source": [
    "---\n",
    "## 3.0 `Matplotlib` Tour\n",
    "\n",
    "The [pyplot tutorial](https://matplotlib.org/tutorials/introductory/pyplot.html#sphx-glr-tutorials-introductory-pyplot-py) provides a tour of `matplotlib` features, but it uses the `pyplot API` coding style.  In this section we show the same tour but using the object approach we've shown above."
   ]
  },
  {
   "cell_type": "markdown",
   "metadata": {},
   "source": [
    "### 3.1 `plot()` basics\n",
    "\n",
    "The [plot function](https://matplotlib.org/api/_as_gen/matplotlib.pyplot.plot.html) draws lines and markers using a set of x and y coordinates.  Similar to the `add_subplot` function, there are multiple ways to call `plot()`.  The call signatures for `ax.plot()` are:\n",
    "\n",
    "```python\n",
    "plot([x], y, [fmt], data=None, **kwargs)\n",
    "plot([x], y, [fmt], [x2], y2, [fmt2], ..., **kwargs)\n",
    "```\n",
    "\n",
    "As described in documentation, these different calls allow for succinct calls to create plots:\n",
    "\n",
    "```python\n",
    "plot(x, y)        # plot x and y using default line style and color\n",
    "plot(x, y, 'bo')  # plot x and y using blue circle markers\n",
    "plot(y)           # plot y using x as index array 0..N-1\n",
    "plot(y, 'r+')     # ditto, but with red plusses\n",
    "```\n",
    "\n",
    "Sometimes, such calls not very explicit. For example, compare these two calls to `plot()`.  They produce identical results.\n",
    "\n",
    "```python\n",
    "plot(x, y, 'go--', linewidth=2, markersize=12)\n",
    "plot(x, y, color='green', marker='o', linestyle='dashed',\n",
    "...      linewidth=2, markersize=12)\n",
    "```\n",
    "\n",
    "The more explicit versions are more readable, easily modified and converted to functions, but can take longer to write.\n",
    "\n",
    "Below, a very simple call to `plot()` is demonstrated.  For this plot we plot a sequence of numbers: 1, 2, 3 and 4.  "
   ]
  },
  {
   "cell_type": "code",
   "execution_count": null,
   "metadata": {},
   "outputs": [],
   "source": [
    "fig = plt.figure()\n",
    "ax = fig.add_subplot(1, 1, 1)\n",
    "ax.plot([1, 2, 3, 4])\n",
    "ax.axes.set_ylabel('some numbers?')\n",
    "plt.show()"
   ]
  },
  {
   "cell_type": "markdown",
   "metadata": {},
   "source": [
    "`plot()` is a versatile command. Observe that we only gave one argument to the `plot()` function in the code above: the x-dimension. An automatic index is generated for the y-dimension: `[0, 1, 2, 3]`.\n",
    "\n",
    "We can provide an (optional) set of y values to be used as indexes."
   ]
  },
  {
   "cell_type": "code",
   "execution_count": null,
   "metadata": {},
   "outputs": [],
   "source": [
    "fig = plt.figure()\n",
    "ax = fig.add_subplot(1, 1, 1)\n",
    "ax.plot([1, 2, 3, 4], [1, 4, 9, 30])\n",
    "plt.show()"
   ]
  },
  {
   "cell_type": "markdown",
   "metadata": {},
   "source": [
    "### 3.2 Style Basics\n",
    "\n",
    "Using `plot()`, we can also declare the style the points should be drawn. Below the call to `ax.plot()` is provided the argument`'ro'`. The change observed is instead of a blue line, we have red circles.  "
   ]
  },
  {
   "cell_type": "code",
   "execution_count": null,
   "metadata": {},
   "outputs": [],
   "source": [
    "fig = plt.figure()\n",
    "ax = fig.add_subplot(1, 1, 1)\n",
    "ax.plot([1, 2, 3, 4], [1, 4, 9, 16], 'ro')\n",
    "plt.show()"
   ]
  },
  {
   "cell_type": "markdown",
   "metadata": {},
   "source": [
    "What do you suppose `'ro'` implies?  You can find the short-hand character abbreivations for point colors, line styles, and marker types in the \"Notes\" section of the [plot() documentation](https://matplotlib.org/api/_as_gen/matplotlib.pyplot.plot.html).  Take a moment to look them over.\n",
    "\n",
    "Next we will plot multiple lines on the same plot.  To do this, let's create a list of numbers representing time, starting at 0 and ending at 5 seconds with an interval of every 0.2 seconds. "
   ]
  },
  {
   "cell_type": "code",
   "execution_count": null,
   "metadata": {},
   "outputs": [],
   "source": [
    "t = np.arange(0., 5., 0.2)\n",
    "t"
   ]
  },
  {
   "cell_type": "markdown",
   "metadata": {},
   "source": [
    "To plot multiple lines, the call to `plot` can be expanded by providing multiple sets of x and y coordinates and respective formatting.  To demonstrate, we'll provide our array `t` as the x-axis and we'll re-use the `t` for three different y-axis coordinates: t, t^2 and t^3."
   ]
  },
  {
   "cell_type": "code",
   "execution_count": null,
   "metadata": {},
   "outputs": [],
   "source": [
    "fig = plt.figure()\n",
    "ax = fig.add_subplot(1, 1, 1)\n",
    "ax.plot(t, t, 'r--', t, t**2, 'bs', t, t**3, 'g^')\n",
    "plt.show()"
   ]
  },
  {
   "cell_type": "markdown",
   "metadata": {},
   "source": [
    "Observe in the call to `plot` above that the three sets of x and y coordinates are provide one after the other."
   ]
  },
  {
   "cell_type": "markdown",
   "metadata": {},
   "source": [
    "### 3.3 Plotting with dictionary labels\n",
    "\n",
    "Remember from the introdcution above it was recommended to convert your data into Numpy for plotting.  There are some exceptions, however, where Python dictionaries, [Numpy recarray](https://docs.scipy.org/doc/numpy/reference/generated/numpy.recarray.html) (which we have not discussed) or Pandas data frames can be used for plotting.  In such cases, you can use the keys (for dictionaries and Numpy recarray) or column labels (Pandas dataframes) to refer to data.  This reduces the need to convert your data to Numpy arrays.  \n",
    "\n",
    "**Note:** If Pandas data frames or dictionaries are not explicitly supported by a function, then default to using Numpy arrays.\n",
    "\n",
    "\n",
    "First let's generate some random data and store it in a Python dictionary.  The dictionary will consits of four Numpy arrays with the following keys:\n",
    "- \"a\": the x-coordiantes\n",
    "- \"b\": the y-coordinates\n",
    "- \"c\": the colors for the points\n",
    "- \"d\": the sizes for the points"
   ]
  },
  {
   "cell_type": "code",
   "execution_count": null,
   "metadata": {},
   "outputs": [],
   "source": [
    "data = {'a': np.arange(50),\n",
    "        'c': np.random.randint(0, 50, 50),\n",
    "        'd': np.random.randn(50)}\n",
    "data['b'] = data['a'] + 10 * np.random.randn(50)\n",
    "data['d'] = np.abs(data['d']) * 100\n",
    "data"
   ]
  },
  {
   "cell_type": "markdown",
   "metadata": {},
   "source": [
    "Now let's plot it. We can use the keys of the dictionary (e.g. \"a\", \"b\" or \"c\") to refer to the arrays we want for the x and y coordinates as well as for sizes of points! Here, we'll use `scatter()` to draw a scatterplot rather than `plot()`."
   ]
  },
  {
   "cell_type": "code",
   "execution_count": null,
   "metadata": {},
   "outputs": [],
   "source": [
    "fig = plt.figure()\n",
    "ax = fig.add_subplot(1, 1, 1)\n",
    "ax.scatter('a', 'b', c='c', s='d', data=data)\n",
    "ax.axes.set_ylabel('entry a')\n",
    "ax.axes.set_xlabel('entry b')\n",
    "plt.show()"
   ]
  },
  {
   "cell_type": "markdown",
   "metadata": {},
   "source": [
    "Note in the call to `scatter` above, we provided the dictionary (named `data`) as the `data` argument, and we gave the key names \"a\" and \"b\" as references for the x and y coordinate data.  What do you think the `c` and `s` arguments are for?"
   ]
  },
  {
   "cell_type": "markdown",
   "metadata": {},
   "source": [
    "### 3.4 Colors\n",
    "\n",
    "In the previous section we provided a set of numbers as colors for the points in the scatterplot.  There are a variety of methods for specifying colors to matplotlib and we leave this to you to explore as needed. The most simple way to provide colors is using the color abbreviations we learned when we examined the `plot` function. To learn more about colors, the [color demo](https://matplotlib.org/gallery/color/color_demo.html)  provides an introduction to the variety of ways in which colors can be provided."
   ]
  },
  {
   "cell_type": "markdown",
   "metadata": {},
   "source": [
    "#### Task 3a: Figure Style\n",
    "\n",
    "<span style=\"float:right; margin-left:10px; clear:both;\">![Task](http://icons.iconarchive.com/icons/sbstnblnd/plateau/96/Apps-gnome-info-icon.png)\n",
    "</span>\n",
    "\n",
    "Create a scatter plots using the iris data frame. Do not convert the data frame columns to numpy arrays. Rather use the dataframe as is. Be sure to:\n",
    "- plot `petal_length` vs `petal_width`.\n",
    "- Use column names to specify the x and y coordinates (don't pass in Numpy arrays)\n",
    "- Color each dot by the species (you'll need to be creative to do this).\n",
    "  - Hint 1: use the [pd.Series.replace](https://pandas.pydata.org/pandas-docs/stable/reference/api/pandas.Series.replace.html) function to convert species names to colors). \n",
    "  - Hint 2: Use the color abbreviations we learned for the the plot function (e.g. 'r', 'b', 'g', etc.).\n",
    "- Add axis labels"
   ]
  },
  {
   "cell_type": "markdown",
   "metadata": {},
   "source": [
    "### 4. Categorical (`string`) Plotting\n",
    "\n",
    "We can pass categorical data stored as strings to many plotting functions.  To demonstrate this, let's first, create some simple data to plot:"
   ]
  },
  {
   "cell_type": "code",
   "execution_count": null,
   "metadata": {},
   "outputs": [],
   "source": [
    "names = ['group_a', 'group_b', 'group_c']\n",
    "values = [1, 10, 100]"
   ]
  },
  {
   "cell_type": "markdown",
   "metadata": {},
   "source": [
    "Now, let's use that data to make three different plots: a bar graph, scatterplot and line chart.  "
   ]
  },
  {
   "cell_type": "code",
   "execution_count": null,
   "metadata": {},
   "outputs": [],
   "source": [
    "# Create a figure object.\n",
    "fig = plt.figure(figsize=(9, 3))\n",
    "\n",
    "# Add three subplot axes to the figure.\n",
    "ax1 = fig.add_subplot(1, 3, 1)\n",
    "ax2 = fig.add_subplot(1, 3, 2)\n",
    "ax3 = fig.add_subplot(1, 3, 3)\n",
    "\n",
    "# Add a bargraph, scatterplot and line plot to each\n",
    "# axxes respectively.\n",
    "ax1.bar(names, values)\n",
    "ax2.scatter(names, values)\n",
    "ax3.plot(names, values)\n",
    "\n",
    "# Add a title to the figure.\n",
    "fig.suptitle('Categorical Plotting')\n",
    "\n",
    "# Cleanly show the plot.\n",
    "plt.show()"
   ]
  },
  {
   "cell_type": "markdown",
   "metadata": {},
   "source": [
    "Notice that the categories are provided as what would normally be the x-axis numerical values. The x-axis labels are automatically set as the category names."
   ]
  },
  {
   "cell_type": "markdown",
   "metadata": {},
   "source": [
    "#### Task 4a: Categorical plots\n",
    "<span style=\"float:right; margin-left:10px; clear:both;\">![Task](http://icons.iconarchive.com/icons/sbstnblnd/plateau/96/Apps-gnome-info-icon.png)\n",
    "</span>\n",
    "\n",
    "Create a bar graph that indicates the mean sepal_height of each subspecies.\n"
   ]
  },
  {
   "cell_type": "markdown",
   "metadata": {},
   "source": [
    "---\n",
    "### 5. Intermission -- Coding Sytle\n",
    "\n",
    "Now is perhaps a good time to see an example for the difference between the Pyplot API and the object-oriented. The following code is from the `pyplot API` tutorial and generates a plot identical to that shown in the previous section. It generates a figure with 1x3 subplots containing a bar graph, scatterplot and line chart respectively:\n",
    "\n",
    "```python\n",
    "plt.figure(1, figsize=(9, 3))\n",
    "\n",
    "plt.subplot(131)\n",
    "plt.bar(names, values)\n",
    "plt.subplot(132)\n",
    "plt.scatter(names, values)\n",
    "plt.subplot(133)\n",
    "plt.plot(names, values)\n",
    "plt.suptitle('Categorical Plotting')\n",
    "plt.show()\n",
    "```\n",
    "\n",
    "Notice that the `plt` library is used as a prefix for all functions.  This is possible because matplotlib's Pyplot API is a \"state-machine\". You may remember this term from the \"Getting Started\" section above.  One way to conceptualize plotting using the Pylot API is to imagine an invisible figure that is \"hidden\" until you plot it.  Any function call using the Pylot API acts on that invisible figure.  This is why some examples can skip right to setting axes without even creating a figure! But it requires that we do things in a particular order. Notice that an axes is created then plotted on, then the next axes, and so forth. In comparison, with the object-oriented approach we can apply functions to any object at any time we want."
   ]
  },
  {
   "cell_type": "markdown",
   "metadata": {},
   "source": [
    "---\n",
    "### 6. Multiple Axes\n",
    "\n",
    "In section 4 we saw an example of a figure with more than one subplot (axes).  Here we will provide more details. Often we will want to have related plots in one figure. Let's use some data and function found in the official tutorial.  First let's create two Numpy arrays containing a range of numbers."
   ]
  },
  {
   "cell_type": "code",
   "execution_count": null,
   "metadata": {},
   "outputs": [],
   "source": [
    "t1 = np.arange(0.0, 5.0, 0.1)\n",
    "t2 = np.arange(0.0, 5.0, 0.02)"
   ]
  },
  {
   "cell_type": "markdown",
   "metadata": {},
   "source": [
    "Next, let's create a function that will recieve a value and adjusts it by using various Numpy functions and values: `np.exp()`, `np.cos()` and `np.pi`."
   ]
  },
  {
   "cell_type": "code",
   "execution_count": null,
   "metadata": {},
   "outputs": [],
   "source": [
    "def f(t):\n",
    "    return np.exp(-t) * np.cos(2*np.pi*t)"
   ]
  },
  {
   "cell_type": "markdown",
   "metadata": {},
   "source": [
    "Let's use these data to plot a figure with 2 rows and 1 column of plots using the data we just created. To do this we call the `add_subplot` function two times. Both times we must specify the same `nrows` and `ncols` arguments. But, the third argument, the `index`, we increment for each subplot:"
   ]
  },
  {
   "cell_type": "code",
   "execution_count": null,
   "metadata": {},
   "outputs": [],
   "source": [
    "# Create a figure object\n",
    "fig = plt.figure()\n",
    "\n",
    "# Create the two axes (subplots)\n",
    "ax1 = fig.add_subplot(2, 1, 1)\n",
    "ax2 = fig.add_subplot(2, 1, 2)\n",
    "\n",
    "# Plot the t1 data as the x-coordinates and use the f() function\n",
    "# to calculate the y-cooordinates.\n",
    "ax1.plot(t1, f(t1), 'bo', t2, f(t2), 'k')\n",
    "\n",
    "# For the second plot, provide the t2 data as the x-coordinates and\n",
    "# calcalute new y-coorindate values.\n",
    "ax2.plot(t2, np.cos(2*np.pi*t2), 'r--')\n",
    "\n",
    "# Show a clean plot\n",
    "plt.show()"
   ]
  },
  {
   "cell_type": "markdown",
   "metadata": {},
   "source": [
    "### 6.1 Using the `subplots` function\n",
    "\n",
    "*Note the plural form!*\n",
    "\n",
    "We can create an identical figure as shown above using the [subplots function](https://matplotlib.org/api/_as_gen/matplotlib.figure.Figure.html#matplotlib.figure.Figure.subplots). This is a convenience function that allows us to create all of the axes in one function call. For example, suppose we want to create a 2x2 figure:"
   ]
  },
  {
   "cell_type": "code",
   "execution_count": null,
   "metadata": {},
   "outputs": [],
   "source": [
    "fig = plt.figure()\n",
    "axes = fig.subplots(2, 2)"
   ]
  },
  {
   "cell_type": "markdown",
   "metadata": {},
   "source": [
    "An empty 2 by 2 figure appears. We can examine the `axes` object and see what `type` of object it is:"
   ]
  },
  {
   "cell_type": "code",
   "execution_count": null,
   "metadata": {},
   "outputs": [],
   "source": [
    "type(axes)"
   ]
  },
  {
   "cell_type": "markdown",
   "metadata": {},
   "source": [
    "A `numpy` array of axes is given. We can then use the `numpy` indexing we learned to access any of these created axes."
   ]
  },
  {
   "cell_type": "code",
   "execution_count": null,
   "metadata": {},
   "outputs": [],
   "source": [
    "axes.shape"
   ]
  },
  {
   "cell_type": "markdown",
   "metadata": {},
   "source": [
    "Now, let's plot some data in the upper-left corner.  We can do this by accessing the corresponding axes object in the `axes` Numpy array (which is a 2x2 array).  The upper left-corner is indexed as `axes[0, 0]`: "
   ]
  },
  {
   "cell_type": "code",
   "execution_count": null,
   "metadata": {},
   "outputs": [],
   "source": [
    "# Generate some random data to plot\n",
    "x = np.random.randn(50)\n",
    "\n",
    "# Plot the data in the first subplot cell:\n",
    "fig = plt.figure()\n",
    "axes = fig.subplots(2, 2)\n",
    "axes[0, 0].plot(x)\n",
    "plt.show()"
   ]
  },
  {
   "cell_type": "markdown",
   "metadata": {},
   "source": [
    "We can shorten our code even further by using the Pyplot API in combination with the object-oriented API.  Here we use the Pyplot API to retreive the fig and axes objects all in one step."
   ]
  },
  {
   "cell_type": "code",
   "execution_count": null,
   "metadata": {},
   "outputs": [],
   "source": [
    "fig, axes = plt.subplots(2, 2)\n",
    "axes[0, 0].plot(x)\n",
    "plt.show()"
   ]
  },
  {
   "cell_type": "markdown",
   "metadata": {},
   "source": [
    "#### Task 6a:  Multiple Plots\n",
    "<span style=\"float:right; margin-left:10px; clear:both;\">![Task](http://icons.iconarchive.com/icons/sbstnblnd/plateau/96/Apps-gnome-info-icon.png)\n",
    "</span>\n",
    "\n",
    "Create 4 scatterplots for the iris data all in one figure. The figure should include scatterplots of these comparisions:\n",
    "- `sepal_length` x `petal_length`\n",
    "- `sepal_length` x `petal_width`\n",
    "- `sepal_width` x `petal_length`\n",
    "- `sepal_width` x `petal_width`\n",
    "\n",
    "Be sure that:\n",
    "- the points for the species \n",
    "- the axes for each plot are labeled\n",
    "- the figure has a label."
   ]
  },
  {
   "cell_type": "markdown",
   "metadata": {},
   "source": [
    "## 7 Non-Linear Axes\n",
    "\n",
    "Often, we need logarithmic values and other non-linear orderings for our plot axes.  We can do this using the `set_yscale` and `set_xscale` functions. To demonstrate this, let's first create some data:"
   ]
  },
  {
   "cell_type": "code",
   "execution_count": null,
   "metadata": {},
   "outputs": [],
   "source": [
    "# Fix the random seed so we can reproduce the same random numbers every time.\n",
    "np.random.seed(19680801)\n",
    "\n",
    "# Create some random x and y-coordinate data between the interval ]0, 1[\n",
    "y = np.random.normal(loc=0.5, scale=0.4, size=1000)\n",
    "y = y[(y > 0) & (y < 1)]\n",
    "y.sort()\n",
    "x = np.arange(len(y))"
   ]
  },
  {
   "cell_type": "markdown",
   "metadata": {},
   "source": [
    "Now let's make four different plots of the same data but using different y scales: linear, log, symlog, and logit:"
   ]
  },
  {
   "cell_type": "code",
   "execution_count": null,
   "metadata": {},
   "outputs": [],
   "source": [
    "# Create the figure and a 2x2 grid of axes.\n",
    "fig, axes = plt.subplots(2, 2)\n",
    "\n",
    "# Plot data to those axes.\n",
    "axes[0, 0].plot(x, y)\n",
    "axes[0, 1].plot(x, y)\n",
    "axes[1, 0].plot(x, y - y.mean())\n",
    "axes[1, 1].plot(x, y)\n",
    "\n",
    "# Set (change default) scales, and enable a grid, for each axes.\n",
    "axes[0, 0].set_yscale('linear')\n",
    "axes[0, 0].set_title('linear')\n",
    "axes[0, 0].grid(True)\n",
    "\n",
    "axes[0, 1].set_yscale('log')\n",
    "axes[0, 1].set_title('log')\n",
    "axes[0, 1].grid(True)\n",
    "\n",
    "axes[1, 0].set_yscale('symlog')\n",
    "axes[1, 0].set_title('symlog')\n",
    "axes[1, 0].grid(True)\n",
    "\n",
    "axes[1, 1].set_yscale('logit')\n",
    "axes[1, 1].set_title('logit')\n",
    "axes[1, 1].grid(True)\n",
    "\n",
    "# add a title for the full figure\n",
    "fig.suptitle('Non-linear Axes Demo')\n",
    "\n",
    "plt.tight_layout()  # Nice automatic spacing.\n",
    "plt.show()"
   ]
  },
  {
   "cell_type": "markdown",
   "metadata": {},
   "source": [
    "---\n",
    "\n",
    "## 8. A Primer on Tidy Data\n",
    "\n",
    "The organization or structure of our data is something that must be considered. In the future we will learn how to prepare a so-called 'tidy' data set. These datasets have been formatted in a way that makes them easy to use in a wide range of applications. Consider for now -- based on your experience using `matplotlib` above -- what formats of data would be easy to plot and style? What formats would you need to change?\n",
    "\n",
    "*Hint: Consider how data labels are sometimes the names of rows or columns.*"
   ]
  }
 ],
 "metadata": {
  "kernelspec": {
   "display_name": "Python 3",
   "language": "python",
   "name": "python3"
  },
  "language_info": {
   "codemirror_mode": {
    "name": "ipython",
    "version": 3
   },
   "file_extension": ".py",
   "mimetype": "text/x-python",
   "name": "python",
   "nbconvert_exporter": "python",
   "pygments_lexer": "ipython3",
   "version": "3.7.1"
  }
 },
 "nbformat": 4,
 "nbformat_minor": 2
}
