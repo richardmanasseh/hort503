{
 "cells": [
  {
   "cell_type": "markdown",
   "metadata": {},
   "source": [
    "# Assignment 10, Part 2: Data Wrangling Practice\n",
    "Use this notebook to follow along with the tasks in the `AO8-Data_Wrangling.ipynb` notebook.\n",
    "\n",
    "## Instructions\n",
    "For each task, use the cell below to write and test your code.  You may add additional cells for any task as needed or desired.  "
   ]
  },
  {
   "cell_type": "markdown",
   "metadata": {},
   "source": [
    "## Task 1a: Setup\n",
    "\n",
    "\n",
    "Import the following packages:\n",
    "+ `pandas` as `pd`\n",
    "+ `numpy` as `np`\n",
    "+ `matplotlib.pyplot` as `plt`\n",
    "+ `Seaborn` as `sns`\n",
    "\n",
    "Activate the `%matplotlib inline` magic."
   ]
  },
  {
   "cell_type": "code",
   "execution_count": 81,
   "metadata": {},
   "outputs": [],
   "source": [
    "import pandas as pd\n",
    "import numpy as np\n",
    "import seaborn as sns\n",
    "import matplotlib.pyplot as plt\n",
    "\n",
    "%matplotlib inline"
   ]
  },
  {
   "cell_type": "markdown",
   "metadata": {},
   "source": [
    "## Task 5a: Bring it all Together\n",
    "\n",
    "You have been provided with two data files:\n",
    "- `paired_genes.txt`: contains log2 transformed gene expression-levels of two genes from *Oryza sativa* (rice). The data contains 463 data points corresponding to samples of extracted RNA.\n",
    "- `project_samples.txt`: contains the list of 463 samples and the experimental conditions underwhich the data was collected.  \n",
    "\n",
    "The `project_samples.txt` file contains 6 variables:  \n",
    "1. Sample ID\n",
    "2. Treatment: CONTROL, HEAT, DROUGHT \n",
    "3. Time: a time series in minutes \n",
    "4. Genotype: one of 4 varities of rice\n",
    "5. Subspecies: either Indica or  Japonica\n",
    "6. Subtreatment: CONTORL, HEAT, RECOV_HEAT, DROUGHT or RECOV_DROUGHT\n",
    "\n",
    "This data was obtained from [NCBI SRA Project PRJNA301554](https://www.ncbi.nlm.nih.gov/bioproject/PRJNA301554/)\n",
    "\n",
    "Import both of these files and generate a scatterplot comparing the gene expression of the two genes. Color the points in the dataframe by the Subtreatment.  Remember to\n",
    "1. Explore the data\n",
    "2. Clean the data (if needed)\n",
    "3. Reshape the data by combining both into a single data frame.\n",
    "4. Plot the scatterplot using Seaborn and the new single data frame."
   ]
  },
  {
   "cell_type": "code",
   "execution_count": 59,
   "metadata": {},
   "outputs": [
    {
     "data": {
      "text/html": [
       "<div>\n",
       "<style scoped>\n",
       "    .dataframe tbody tr th:only-of-type {\n",
       "        vertical-align: middle;\n",
       "    }\n",
       "\n",
       "    .dataframe tbody tr th {\n",
       "        vertical-align: top;\n",
       "    }\n",
       "\n",
       "    .dataframe thead th {\n",
       "        text-align: right;\n",
       "    }\n",
       "</style>\n",
       "<table border=\"1\" class=\"dataframe\">\n",
       "  <thead>\n",
       "    <tr style=\"text-align: right;\">\n",
       "      <th></th>\n",
       "      <th>Gene</th>\n",
       "      <th>SRR2931040</th>\n",
       "      <th>SRR2931041</th>\n",
       "      <th>SRR2931042</th>\n",
       "      <th>SRR2931043</th>\n",
       "      <th>SRR2931044</th>\n",
       "      <th>SRR2931045</th>\n",
       "      <th>SRR2931046</th>\n",
       "      <th>SRR2931047</th>\n",
       "      <th>SRR2931048</th>\n",
       "      <th>...</th>\n",
       "      <th>SRR2931504</th>\n",
       "      <th>SRR2931505</th>\n",
       "      <th>SRR2931506</th>\n",
       "      <th>SRR2931507</th>\n",
       "      <th>SRR2931509</th>\n",
       "      <th>SRR2931510</th>\n",
       "      <th>SRR2931511</th>\n",
       "      <th>SRR2931512</th>\n",
       "      <th>SRR2931513</th>\n",
       "      <th>SRR2931514</th>\n",
       "    </tr>\n",
       "  </thead>\n",
       "  <tbody>\n",
       "    <tr>\n",
       "      <th>0</th>\n",
       "      <td>LOC_Os04g28420.1</td>\n",
       "      <td>4.268040</td>\n",
       "      <td>4.116958</td>\n",
       "      <td>4.012293</td>\n",
       "      <td>2.288004</td>\n",
       "      <td>3.465565</td>\n",
       "      <td>4.226350</td>\n",
       "      <td>2.000699</td>\n",
       "      <td>3.832970</td>\n",
       "      <td>3.271376</td>\n",
       "      <td>...</td>\n",
       "      <td>2.566332</td>\n",
       "      <td>1.055844</td>\n",
       "      <td>2.405943</td>\n",
       "      <td>0.933891</td>\n",
       "      <td>-0.717344</td>\n",
       "      <td>1.680053</td>\n",
       "      <td>0.460852</td>\n",
       "      <td>2.754201</td>\n",
       "      <td>3.089294</td>\n",
       "      <td>2.502104</td>\n",
       "    </tr>\n",
       "    <tr>\n",
       "      <th>1</th>\n",
       "      <td>LOC_Os02g28980.1</td>\n",
       "      <td>5.141542</td>\n",
       "      <td>4.879507</td>\n",
       "      <td>5.029932</td>\n",
       "      <td>4.331433</td>\n",
       "      <td>4.281086</td>\n",
       "      <td>5.036735</td>\n",
       "      <td>4.171653</td>\n",
       "      <td>4.995372</td>\n",
       "      <td>4.789523</td>\n",
       "      <td>...</td>\n",
       "      <td>4.431035</td>\n",
       "      <td>3.699905</td>\n",
       "      <td>3.680951</td>\n",
       "      <td>3.692540</td>\n",
       "      <td>3.468674</td>\n",
       "      <td>3.799060</td>\n",
       "      <td>3.657446</td>\n",
       "      <td>3.437537</td>\n",
       "      <td>4.478832</td>\n",
       "      <td>4.366382</td>\n",
       "    </tr>\n",
       "  </tbody>\n",
       "</table>\n",
       "<p>2 rows × 463 columns</p>\n",
       "</div>"
      ],
      "text/plain": [
       "               Gene  SRR2931040  SRR2931041  SRR2931042  SRR2931043  \\\n",
       "0  LOC_Os04g28420.1    4.268040    4.116958    4.012293    2.288004   \n",
       "1  LOC_Os02g28980.1    5.141542    4.879507    5.029932    4.331433   \n",
       "\n",
       "   SRR2931044  SRR2931045  SRR2931046  SRR2931047  SRR2931048     ...      \\\n",
       "0    3.465565    4.226350    2.000699    3.832970    3.271376     ...       \n",
       "1    4.281086    5.036735    4.171653    4.995372    4.789523     ...       \n",
       "\n",
       "   SRR2931504  SRR2931505  SRR2931506  SRR2931507  SRR2931509  SRR2931510  \\\n",
       "0    2.566332    1.055844    2.405943    0.933891   -0.717344    1.680053   \n",
       "1    4.431035    3.699905    3.680951    3.692540    3.468674    3.799060   \n",
       "\n",
       "   SRR2931511  SRR2931512  SRR2931513  SRR2931514  \n",
       "0    0.460852    2.754201    3.089294    2.502104  \n",
       "1    3.657446    3.437537    4.478832    4.366382  \n",
       "\n",
       "[2 rows x 463 columns]"
      ]
     },
     "execution_count": 59,
     "metadata": {},
     "output_type": "execute_result"
    }
   ],
   "source": [
    "data1 = pd.read_csv(\"paired_genes.txt\", sep='\\t') \n",
    "data1"
   ]
  },
  {
   "cell_type": "code",
   "execution_count": 98,
   "metadata": {},
   "outputs": [
    {
     "data": {
      "text/html": [
       "<div>\n",
       "<style scoped>\n",
       "    .dataframe tbody tr th:only-of-type {\n",
       "        vertical-align: middle;\n",
       "    }\n",
       "\n",
       "    .dataframe tbody tr th {\n",
       "        vertical-align: top;\n",
       "    }\n",
       "\n",
       "    .dataframe thead th {\n",
       "        text-align: right;\n",
       "    }\n",
       "</style>\n",
       "<table border=\"1\" class=\"dataframe\">\n",
       "  <thead>\n",
       "    <tr style=\"text-align: right;\">\n",
       "      <th></th>\n",
       "      <th>0</th>\n",
       "      <th>1</th>\n",
       "    </tr>\n",
       "  </thead>\n",
       "  <tbody>\n",
       "    <tr>\n",
       "      <th>Gene</th>\n",
       "      <td>LOC_Os04g28420.1</td>\n",
       "      <td>LOC_Os02g28980.1</td>\n",
       "    </tr>\n",
       "    <tr>\n",
       "      <th>SRR2931040</th>\n",
       "      <td>4.26804</td>\n",
       "      <td>5.14154</td>\n",
       "    </tr>\n",
       "    <tr>\n",
       "      <th>SRR2931041</th>\n",
       "      <td>4.11696</td>\n",
       "      <td>4.87951</td>\n",
       "    </tr>\n",
       "    <tr>\n",
       "      <th>SRR2931042</th>\n",
       "      <td>4.01229</td>\n",
       "      <td>5.02993</td>\n",
       "    </tr>\n",
       "    <tr>\n",
       "      <th>SRR2931043</th>\n",
       "      <td>2.288</td>\n",
       "      <td>4.33143</td>\n",
       "    </tr>\n",
       "  </tbody>\n",
       "</table>\n",
       "</div>"
      ],
      "text/plain": [
       "                           0                 1\n",
       "Gene        LOC_Os04g28420.1  LOC_Os02g28980.1\n",
       "SRR2931040           4.26804           5.14154\n",
       "SRR2931041           4.11696           4.87951\n",
       "SRR2931042           4.01229           5.02993\n",
       "SRR2931043             2.288           4.33143"
      ]
     },
     "execution_count": 98,
     "metadata": {},
     "output_type": "execute_result"
    }
   ],
   "source": [
    "data1.T.head() # approx desired reshape"
   ]
  },
  {
   "cell_type": "code",
   "execution_count": 99,
   "metadata": {},
   "outputs": [
    {
     "data": {
      "text/plain": [
       "(5, 2)"
      ]
     },
     "execution_count": 99,
     "metadata": {},
     "output_type": "execute_result"
    }
   ],
   "source": [
    "data2= data1.T"
   ]
  },
  {
   "cell_type": "code",
   "execution_count": 101,
   "metadata": {},
   "outputs": [
    {
     "data": {
      "text/plain": [
       "Index(['Gene', 'SRR2931040', 'SRR2931041', 'SRR2931042', 'SRR2931043',\n",
       "       'SRR2931044', 'SRR2931045', 'SRR2931046', 'SRR2931047', 'SRR2931048',\n",
       "       ...\n",
       "       'SRR2931504', 'SRR2931505', 'SRR2931506', 'SRR2931507', 'SRR2931509',\n",
       "       'SRR2931510', 'SRR2931511', 'SRR2931512', 'SRR2931513', 'SRR2931514'],\n",
       "      dtype='object', length=463)"
      ]
     },
     "execution_count": 101,
     "metadata": {},
     "output_type": "execute_result"
    }
   ],
   "source": [
    "data1.T.index"
   ]
  },
  {
   "cell_type": "code",
   "execution_count": 136,
   "metadata": {},
   "outputs": [
    {
     "data": {
      "text/html": [
       "<div>\n",
       "<style scoped>\n",
       "    .dataframe tbody tr th:only-of-type {\n",
       "        vertical-align: middle;\n",
       "    }\n",
       "\n",
       "    .dataframe tbody tr th {\n",
       "        vertical-align: top;\n",
       "    }\n",
       "\n",
       "    .dataframe thead th {\n",
       "        text-align: right;\n",
       "    }\n",
       "</style>\n",
       "<table border=\"1\" class=\"dataframe\">\n",
       "  <thead>\n",
       "    <tr style=\"text-align: right;\">\n",
       "      <th></th>\n",
       "      <th>Gene</th>\n",
       "      <th>Sample</th>\n",
       "      <th>Expression Level</th>\n",
       "    </tr>\n",
       "  </thead>\n",
       "  <tbody>\n",
       "    <tr>\n",
       "      <th>919</th>\n",
       "      <td>LOC_Os02g28980.1</td>\n",
       "      <td>SRR2931512</td>\n",
       "      <td>3.437537</td>\n",
       "    </tr>\n",
       "    <tr>\n",
       "      <th>920</th>\n",
       "      <td>LOC_Os04g28420.1</td>\n",
       "      <td>SRR2931513</td>\n",
       "      <td>3.089294</td>\n",
       "    </tr>\n",
       "    <tr>\n",
       "      <th>921</th>\n",
       "      <td>LOC_Os02g28980.1</td>\n",
       "      <td>SRR2931513</td>\n",
       "      <td>4.478832</td>\n",
       "    </tr>\n",
       "    <tr>\n",
       "      <th>922</th>\n",
       "      <td>LOC_Os04g28420.1</td>\n",
       "      <td>SRR2931514</td>\n",
       "      <td>2.502104</td>\n",
       "    </tr>\n",
       "    <tr>\n",
       "      <th>923</th>\n",
       "      <td>LOC_Os02g28980.1</td>\n",
       "      <td>SRR2931514</td>\n",
       "      <td>4.366382</td>\n",
       "    </tr>\n",
       "  </tbody>\n",
       "</table>\n",
       "</div>"
      ],
      "text/plain": [
       "                 Gene      Sample  Expression Level\n",
       "919  LOC_Os02g28980.1  SRR2931512          3.437537\n",
       "920  LOC_Os04g28420.1  SRR2931513          3.089294\n",
       "921  LOC_Os02g28980.1  SRR2931513          4.478832\n",
       "922  LOC_Os04g28420.1  SRR2931514          2.502104\n",
       "923  LOC_Os02g28980.1  SRR2931514          4.366382"
      ]
     },
     "execution_count": 136,
     "metadata": {},
     "output_type": "execute_result"
    }
   ],
   "source": [
    "melted_data1 = pd.melt(data1, id_vars=['Gene'], var_name='Sample', value_name='Expression Level' )\n",
    "melted_data1.reset_index(drop=True, inplace=True)\n",
    "melted_data1.tail(5)"
   ]
  },
  {
   "cell_type": "code",
   "execution_count": 147,
   "metadata": {},
   "outputs": [
    {
     "data": {
      "text/html": [
       "<div>\n",
       "<style scoped>\n",
       "    .dataframe tbody tr th:only-of-type {\n",
       "        vertical-align: middle;\n",
       "    }\n",
       "\n",
       "    .dataframe tbody tr th {\n",
       "        vertical-align: top;\n",
       "    }\n",
       "\n",
       "    .dataframe thead th {\n",
       "        text-align: right;\n",
       "    }\n",
       "</style>\n",
       "<table border=\"1\" class=\"dataframe\">\n",
       "  <thead>\n",
       "    <tr style=\"text-align: right;\">\n",
       "      <th>Gene</th>\n",
       "      <th>Sample</th>\n",
       "      <th>LOC_Os02g28980.1</th>\n",
       "      <th>LOC_Os04g28420.1</th>\n",
       "    </tr>\n",
       "  </thead>\n",
       "  <tbody>\n",
       "    <tr>\n",
       "      <th>0</th>\n",
       "      <td>SRR2931040</td>\n",
       "      <td>5.141542</td>\n",
       "      <td>4.268040</td>\n",
       "    </tr>\n",
       "    <tr>\n",
       "      <th>1</th>\n",
       "      <td>SRR2931041</td>\n",
       "      <td>4.879507</td>\n",
       "      <td>4.116958</td>\n",
       "    </tr>\n",
       "    <tr>\n",
       "      <th>2</th>\n",
       "      <td>SRR2931042</td>\n",
       "      <td>5.029932</td>\n",
       "      <td>4.012293</td>\n",
       "    </tr>\n",
       "    <tr>\n",
       "      <th>3</th>\n",
       "      <td>SRR2931043</td>\n",
       "      <td>4.331433</td>\n",
       "      <td>2.288004</td>\n",
       "    </tr>\n",
       "    <tr>\n",
       "      <th>4</th>\n",
       "      <td>SRR2931044</td>\n",
       "      <td>4.281086</td>\n",
       "      <td>3.465565</td>\n",
       "    </tr>\n",
       "  </tbody>\n",
       "</table>\n",
       "</div>"
      ],
      "text/plain": [
       "Gene      Sample  LOC_Os02g28980.1  LOC_Os04g28420.1\n",
       "0     SRR2931040          5.141542          4.268040\n",
       "1     SRR2931041          4.879507          4.116958\n",
       "2     SRR2931042          5.029932          4.012293\n",
       "3     SRR2931043          4.331433          2.288004\n",
       "4     SRR2931044          4.281086          3.465565"
      ]
     },
     "execution_count": 147,
     "metadata": {},
     "output_type": "execute_result"
    }
   ],
   "source": [
    "pivoted_melted_data1 = pd.pivot_table(index=['Sample'], columns='Gene', values=\"Expression Level\", data=melted_data1)\n",
    "pivoted_melted_data1.reset_index(drop=False, inplace=True)\n",
    "pivoted_melted_data1.head(5)"
   ]
  },
  {
   "cell_type": "code",
   "execution_count": 148,
   "metadata": {},
   "outputs": [
    {
     "data": {
      "text/plain": [
       "(462, 3)"
      ]
     },
     "execution_count": 148,
     "metadata": {},
     "output_type": "execute_result"
    }
   ],
   "source": [
    "pivoted_melted_data1.shape"
   ]
  },
  {
   "cell_type": "code",
   "execution_count": 149,
   "metadata": {},
   "outputs": [
    {
     "data": {
      "text/plain": [
       "Index(['Sample', 'LOC_Os02g28980.1', 'LOC_Os04g28420.1'], dtype='object', name='Gene')"
      ]
     },
     "execution_count": 149,
     "metadata": {},
     "output_type": "execute_result"
    }
   ],
   "source": [
    "pivoted_melted_data1.columns"
   ]
  },
  {
   "cell_type": "code",
   "execution_count": 60,
   "metadata": {},
   "outputs": [
    {
     "data": {
      "text/plain": [
       "Gene           object\n",
       "SRR2931040    float64\n",
       "SRR2931041    float64\n",
       "SRR2931042    float64\n",
       "SRR2931043    float64\n",
       "dtype: object"
      ]
     },
     "execution_count": 60,
     "metadata": {},
     "output_type": "execute_result"
    }
   ],
   "source": [
    "data1.dtypes.head()"
   ]
  },
  {
   "cell_type": "code",
   "execution_count": 61,
   "metadata": {},
   "outputs": [
    {
     "data": {
      "text/plain": [
       "(2, 463)"
      ]
     },
     "execution_count": 61,
     "metadata": {},
     "output_type": "execute_result"
    }
   ],
   "source": [
    "# vs data1\n",
    "data1.shape"
   ]
  },
  {
   "cell_type": "code",
   "execution_count": 62,
   "metadata": {},
   "outputs": [
    {
     "data": {
      "text/html": [
       "<div>\n",
       "<style scoped>\n",
       "    .dataframe tbody tr th:only-of-type {\n",
       "        vertical-align: middle;\n",
       "    }\n",
       "\n",
       "    .dataframe tbody tr th {\n",
       "        vertical-align: top;\n",
       "    }\n",
       "\n",
       "    .dataframe thead th {\n",
       "        text-align: right;\n",
       "    }\n",
       "</style>\n",
       "<table border=\"1\" class=\"dataframe\">\n",
       "  <thead>\n",
       "    <tr style=\"text-align: right;\">\n",
       "      <th></th>\n",
       "      <th>Gene</th>\n",
       "      <th>variable</th>\n",
       "      <th>value</th>\n",
       "    </tr>\n",
       "  </thead>\n",
       "  <tbody>\n",
       "    <tr>\n",
       "      <th>0</th>\n",
       "      <td>LOC_Os04g28420.1</td>\n",
       "      <td>SRR2931040</td>\n",
       "      <td>4.268040</td>\n",
       "    </tr>\n",
       "    <tr>\n",
       "      <th>1</th>\n",
       "      <td>LOC_Os02g28980.1</td>\n",
       "      <td>SRR2931040</td>\n",
       "      <td>5.141542</td>\n",
       "    </tr>\n",
       "    <tr>\n",
       "      <th>2</th>\n",
       "      <td>LOC_Os04g28420.1</td>\n",
       "      <td>SRR2931041</td>\n",
       "      <td>4.116958</td>\n",
       "    </tr>\n",
       "    <tr>\n",
       "      <th>3</th>\n",
       "      <td>LOC_Os02g28980.1</td>\n",
       "      <td>SRR2931041</td>\n",
       "      <td>4.879507</td>\n",
       "    </tr>\n",
       "    <tr>\n",
       "      <th>4</th>\n",
       "      <td>LOC_Os04g28420.1</td>\n",
       "      <td>SRR2931042</td>\n",
       "      <td>4.012293</td>\n",
       "    </tr>\n",
       "  </tbody>\n",
       "</table>\n",
       "</div>"
      ],
      "text/plain": [
       "               Gene    variable     value\n",
       "0  LOC_Os04g28420.1  SRR2931040  4.268040\n",
       "1  LOC_Os02g28980.1  SRR2931040  5.141542\n",
       "2  LOC_Os04g28420.1  SRR2931041  4.116958\n",
       "3  LOC_Os02g28980.1  SRR2931041  4.879507\n",
       "4  LOC_Os04g28420.1  SRR2931042  4.012293"
      ]
     },
     "execution_count": 62,
     "metadata": {},
     "output_type": "execute_result"
    }
   ],
   "source": [
    "# JUst the longer route..\n",
    "data1_melt = pd.melt(data1, id_vars=['Gene']) \n",
    "data1_melt.head()"
   ]
  },
  {
   "cell_type": "code",
   "execution_count": 91,
   "metadata": {},
   "outputs": [
    {
     "data": {
      "text/html": [
       "<div>\n",
       "<style scoped>\n",
       "    .dataframe tbody tr th:only-of-type {\n",
       "        vertical-align: middle;\n",
       "    }\n",
       "\n",
       "    .dataframe tbody tr th {\n",
       "        vertical-align: top;\n",
       "    }\n",
       "\n",
       "    .dataframe thead th {\n",
       "        text-align: right;\n",
       "    }\n",
       "</style>\n",
       "<table border=\"1\" class=\"dataframe\">\n",
       "  <thead>\n",
       "    <tr style=\"text-align: right;\">\n",
       "      <th></th>\n",
       "      <th>Gene</th>\n",
       "      <th>Sample</th>\n",
       "      <th>Expression Level</th>\n",
       "    </tr>\n",
       "  </thead>\n",
       "  <tbody>\n",
       "    <tr>\n",
       "      <th>0</th>\n",
       "      <td>LOC_Os04g28420.1</td>\n",
       "      <td>SRR2931040</td>\n",
       "      <td>4.268040</td>\n",
       "    </tr>\n",
       "    <tr>\n",
       "      <th>1</th>\n",
       "      <td>LOC_Os02g28980.1</td>\n",
       "      <td>SRR2931040</td>\n",
       "      <td>5.141542</td>\n",
       "    </tr>\n",
       "    <tr>\n",
       "      <th>2</th>\n",
       "      <td>LOC_Os04g28420.1</td>\n",
       "      <td>SRR2931041</td>\n",
       "      <td>4.116958</td>\n",
       "    </tr>\n",
       "    <tr>\n",
       "      <th>3</th>\n",
       "      <td>LOC_Os02g28980.1</td>\n",
       "      <td>SRR2931041</td>\n",
       "      <td>4.879507</td>\n",
       "    </tr>\n",
       "    <tr>\n",
       "      <th>4</th>\n",
       "      <td>LOC_Os04g28420.1</td>\n",
       "      <td>SRR2931042</td>\n",
       "      <td>4.012293</td>\n",
       "    </tr>\n",
       "  </tbody>\n",
       "</table>\n",
       "</div>"
      ],
      "text/plain": [
       "               Gene      Sample  Expression Level\n",
       "0  LOC_Os04g28420.1  SRR2931040          4.268040\n",
       "1  LOC_Os02g28980.1  SRR2931040          5.141542\n",
       "2  LOC_Os04g28420.1  SRR2931041          4.116958\n",
       "3  LOC_Os02g28980.1  SRR2931041          4.879507\n",
       "4  LOC_Os04g28420.1  SRR2931042          4.012293"
      ]
     },
     "execution_count": 91,
     "metadata": {},
     "output_type": "execute_result"
    }
   ],
   "source": [
    "data1_melt.columns = ['Gene', 'Sample', 'Expression Level']\n",
    "data1_melt.head()"
   ]
  },
  {
   "cell_type": "code",
   "execution_count": 64,
   "metadata": {},
   "outputs": [
    {
     "data": {
      "text/plain": [
       "RangeIndex(start=0, stop=924, step=1)"
      ]
     },
     "execution_count": 64,
     "metadata": {},
     "output_type": "execute_result"
    }
   ],
   "source": [
    "data1_melt.index"
   ]
  },
  {
   "cell_type": "code",
   "execution_count": null,
   "metadata": {},
   "outputs": [],
   "source": []
  },
  {
   "cell_type": "code",
   "execution_count": 78,
   "metadata": {},
   "outputs": [
    {
     "data": {
      "text/html": [
       "<div>\n",
       "<style scoped>\n",
       "    .dataframe tbody tr th:only-of-type {\n",
       "        vertical-align: middle;\n",
       "    }\n",
       "\n",
       "    .dataframe tbody tr th {\n",
       "        vertical-align: top;\n",
       "    }\n",
       "\n",
       "    .dataframe thead th {\n",
       "        text-align: right;\n",
       "    }\n",
       "</style>\n",
       "<table border=\"1\" class=\"dataframe\">\n",
       "  <thead>\n",
       "    <tr style=\"text-align: right;\">\n",
       "      <th></th>\n",
       "      <th>Sample</th>\n",
       "      <th>Treatment</th>\n",
       "      <th>Time</th>\n",
       "      <th>Genotype</th>\n",
       "      <th>Subspecies</th>\n",
       "      <th>Subtreatment</th>\n",
       "    </tr>\n",
       "  </thead>\n",
       "  <tbody>\n",
       "    <tr>\n",
       "      <th>0</th>\n",
       "      <td>SRR2931040</td>\n",
       "      <td>CONTROL</td>\n",
       "      <td>15</td>\n",
       "      <td>AZ</td>\n",
       "      <td>Japonica</td>\n",
       "      <td>CONTROL</td>\n",
       "    </tr>\n",
       "    <tr>\n",
       "      <th>1</th>\n",
       "      <td>SRR2931041</td>\n",
       "      <td>CONTROL</td>\n",
       "      <td>15</td>\n",
       "      <td>AZ</td>\n",
       "      <td>Japonica</td>\n",
       "      <td>CONTROL</td>\n",
       "    </tr>\n",
       "  </tbody>\n",
       "</table>\n",
       "</div>"
      ],
      "text/plain": [
       "       Sample Treatment  Time Genotype Subspecies Subtreatment\n",
       "0  SRR2931040   CONTROL    15       AZ   Japonica      CONTROL\n",
       "1  SRR2931041   CONTROL    15       AZ   Japonica      CONTROL"
      ]
     },
     "execution_count": 78,
     "metadata": {},
     "output_type": "execute_result"
    }
   ],
   "source": [
    "data2 = pd.read_csv(\"project_samples.txt\", sep='\\t') \n",
    "data2.head(2)"
   ]
  },
  {
   "cell_type": "code",
   "execution_count": 152,
   "metadata": {},
   "outputs": [
    {
     "data": {
      "text/html": [
       "<div>\n",
       "<style scoped>\n",
       "    .dataframe tbody tr th:only-of-type {\n",
       "        vertical-align: middle;\n",
       "    }\n",
       "\n",
       "    .dataframe tbody tr th {\n",
       "        vertical-align: top;\n",
       "    }\n",
       "\n",
       "    .dataframe thead th {\n",
       "        text-align: right;\n",
       "    }\n",
       "</style>\n",
       "<table border=\"1\" class=\"dataframe\">\n",
       "  <thead>\n",
       "    <tr style=\"text-align: right;\">\n",
       "      <th></th>\n",
       "      <th>Sample</th>\n",
       "      <th>Treatment</th>\n",
       "      <th>Time</th>\n",
       "      <th>Genotype</th>\n",
       "      <th>Subspecies</th>\n",
       "      <th>Subtreatment</th>\n",
       "    </tr>\n",
       "  </thead>\n",
       "  <tbody>\n",
       "    <tr>\n",
       "      <th>457</th>\n",
       "      <td>SRR2931510</td>\n",
       "      <td>DROUGHT</td>\n",
       "      <td>240</td>\n",
       "      <td>TD</td>\n",
       "      <td>Indica</td>\n",
       "      <td>RECOV_DROUGHT</td>\n",
       "    </tr>\n",
       "    <tr>\n",
       "      <th>458</th>\n",
       "      <td>SRR2931511</td>\n",
       "      <td>DROUGHT</td>\n",
       "      <td>270</td>\n",
       "      <td>TD</td>\n",
       "      <td>Indica</td>\n",
       "      <td>RECOV_DROUGHT</td>\n",
       "    </tr>\n",
       "    <tr>\n",
       "      <th>459</th>\n",
       "      <td>SRR2931512</td>\n",
       "      <td>DROUGHT</td>\n",
       "      <td>270</td>\n",
       "      <td>TD</td>\n",
       "      <td>Indica</td>\n",
       "      <td>RECOV_DROUGHT</td>\n",
       "    </tr>\n",
       "    <tr>\n",
       "      <th>460</th>\n",
       "      <td>SRR2931513</td>\n",
       "      <td>DROUGHT</td>\n",
       "      <td>300</td>\n",
       "      <td>TD</td>\n",
       "      <td>Indica</td>\n",
       "      <td>RECOV_DROUGHT</td>\n",
       "    </tr>\n",
       "    <tr>\n",
       "      <th>461</th>\n",
       "      <td>SRR2931514</td>\n",
       "      <td>DROUGHT</td>\n",
       "      <td>300</td>\n",
       "      <td>TD</td>\n",
       "      <td>Indica</td>\n",
       "      <td>RECOV_DROUGHT</td>\n",
       "    </tr>\n",
       "  </tbody>\n",
       "</table>\n",
       "</div>"
      ],
      "text/plain": [
       "         Sample Treatment  Time Genotype Subspecies   Subtreatment\n",
       "457  SRR2931510   DROUGHT   240       TD     Indica  RECOV_DROUGHT\n",
       "458  SRR2931511   DROUGHT   270       TD     Indica  RECOV_DROUGHT\n",
       "459  SRR2931512   DROUGHT   270       TD     Indica  RECOV_DROUGHT\n",
       "460  SRR2931513   DROUGHT   300       TD     Indica  RECOV_DROUGHT\n",
       "461  SRR2931514   DROUGHT   300       TD     Indica  RECOV_DROUGHT"
      ]
     },
     "execution_count": 152,
     "metadata": {},
     "output_type": "execute_result"
    }
   ],
   "source": [
    "data.tail(5)"
   ]
  },
  {
   "cell_type": "code",
   "execution_count": null,
   "metadata": {},
   "outputs": [],
   "source": [
    "# data.reset_index(drop=False, Inplace=True)\n"
   ]
  },
  {
   "cell_type": "code",
   "execution_count": 7,
   "metadata": {},
   "outputs": [
    {
     "data": {
      "text/plain": [
       "Sample          object\n",
       "Treatment       object\n",
       "Time             int64\n",
       "Genotype        object\n",
       "Subspecies      object\n",
       "Subtreatment    object\n",
       "dtype: object"
      ]
     },
     "execution_count": 7,
     "metadata": {},
     "output_type": "execute_result"
    }
   ],
   "source": [
    "data.dtypes"
   ]
  },
  {
   "cell_type": "code",
   "execution_count": 8,
   "metadata": {},
   "outputs": [
    {
     "data": {
      "text/plain": [
       "(462, 6)"
      ]
     },
     "execution_count": 8,
     "metadata": {},
     "output_type": "execute_result"
    }
   ],
   "source": [
    "data.shape"
   ]
  },
  {
   "cell_type": "code",
   "execution_count": 10,
   "metadata": {},
   "outputs": [
    {
     "data": {
      "text/html": [
       "<div>\n",
       "<style scoped>\n",
       "    .dataframe tbody tr th:only-of-type {\n",
       "        vertical-align: middle;\n",
       "    }\n",
       "\n",
       "    .dataframe tbody tr th {\n",
       "        vertical-align: top;\n",
       "    }\n",
       "\n",
       "    .dataframe thead th {\n",
       "        text-align: right;\n",
       "    }\n",
       "</style>\n",
       "<table border=\"1\" class=\"dataframe\">\n",
       "  <thead>\n",
       "    <tr style=\"text-align: right;\">\n",
       "      <th></th>\n",
       "      <th>Time</th>\n",
       "    </tr>\n",
       "  </thead>\n",
       "  <tbody>\n",
       "    <tr>\n",
       "      <th>count</th>\n",
       "      <td>462.000000</td>\n",
       "    </tr>\n",
       "    <tr>\n",
       "      <th>mean</th>\n",
       "      <td>142.727273</td>\n",
       "    </tr>\n",
       "    <tr>\n",
       "      <th>std</th>\n",
       "      <td>75.066328</td>\n",
       "    </tr>\n",
       "    <tr>\n",
       "      <th>min</th>\n",
       "      <td>15.000000</td>\n",
       "    </tr>\n",
       "    <tr>\n",
       "      <th>25%</th>\n",
       "      <td>90.000000</td>\n",
       "    </tr>\n",
       "    <tr>\n",
       "      <th>50%</th>\n",
       "      <td>142.500000</td>\n",
       "    </tr>\n",
       "    <tr>\n",
       "      <th>75%</th>\n",
       "      <td>195.000000</td>\n",
       "    </tr>\n",
       "    <tr>\n",
       "      <th>max</th>\n",
       "      <td>300.000000</td>\n",
       "    </tr>\n",
       "  </tbody>\n",
       "</table>\n",
       "</div>"
      ],
      "text/plain": [
       "             Time\n",
       "count  462.000000\n",
       "mean   142.727273\n",
       "std     75.066328\n",
       "min     15.000000\n",
       "25%     90.000000\n",
       "50%    142.500000\n",
       "75%    195.000000\n",
       "max    300.000000"
      ]
     },
     "execution_count": 10,
     "metadata": {},
     "output_type": "execute_result"
    }
   ],
   "source": [
    "data.describe() ## makes no sense!!"
   ]
  },
  {
   "cell_type": "code",
   "execution_count": 11,
   "metadata": {},
   "outputs": [
    {
     "data": {
      "text/plain": [
       "Subspecies\n",
       "Indica      229\n",
       "Japonica    233\n",
       "dtype: int64"
      ]
     },
     "execution_count": 11,
     "metadata": {},
     "output_type": "execute_result"
    }
   ],
   "source": [
    "data.groupby(by=['Subspecies']).size() # groups by Subspecies, then returns counts for each catergory using size function"
   ]
  },
  {
   "cell_type": "code",
   "execution_count": 12,
   "metadata": {},
   "outputs": [
    {
     "data": {
      "text/plain": [
       "Treatment\n",
       "CONTROL    141\n",
       "DROUGHT    134\n",
       "HEAT       187\n",
       "dtype: int64"
      ]
     },
     "execution_count": 12,
     "metadata": {},
     "output_type": "execute_result"
    }
   ],
   "source": [
    "data.groupby(by=['Treatment']).size() # groups by sex, then returns counts for each catergory using size function"
   ]
  },
  {
   "cell_type": "code",
   "execution_count": 150,
   "metadata": {},
   "outputs": [
    {
     "data": {
      "text/html": [
       "<div>\n",
       "<style scoped>\n",
       "    .dataframe tbody tr th:only-of-type {\n",
       "        vertical-align: middle;\n",
       "    }\n",
       "\n",
       "    .dataframe tbody tr th {\n",
       "        vertical-align: top;\n",
       "    }\n",
       "\n",
       "    .dataframe thead th {\n",
       "        text-align: right;\n",
       "    }\n",
       "</style>\n",
       "<table border=\"1\" class=\"dataframe\">\n",
       "  <thead>\n",
       "    <tr style=\"text-align: right;\">\n",
       "      <th></th>\n",
       "      <th>Sample</th>\n",
       "      <th>Treatment</th>\n",
       "      <th>Time</th>\n",
       "      <th>Genotype</th>\n",
       "      <th>Subspecies</th>\n",
       "      <th>Subtreatment</th>\n",
       "      <th>LOC_Os02g28980.1</th>\n",
       "      <th>LOC_Os04g28420.1</th>\n",
       "    </tr>\n",
       "  </thead>\n",
       "  <tbody>\n",
       "    <tr>\n",
       "      <th>0</th>\n",
       "      <td>SRR2931040</td>\n",
       "      <td>CONTROL</td>\n",
       "      <td>15</td>\n",
       "      <td>AZ</td>\n",
       "      <td>Japonica</td>\n",
       "      <td>CONTROL</td>\n",
       "      <td>5.141542</td>\n",
       "      <td>4.268040</td>\n",
       "    </tr>\n",
       "    <tr>\n",
       "      <th>1</th>\n",
       "      <td>SRR2931041</td>\n",
       "      <td>CONTROL</td>\n",
       "      <td>15</td>\n",
       "      <td>AZ</td>\n",
       "      <td>Japonica</td>\n",
       "      <td>CONTROL</td>\n",
       "      <td>4.879507</td>\n",
       "      <td>4.116958</td>\n",
       "    </tr>\n",
       "    <tr>\n",
       "      <th>2</th>\n",
       "      <td>SRR2931042</td>\n",
       "      <td>CONTROL</td>\n",
       "      <td>30</td>\n",
       "      <td>AZ</td>\n",
       "      <td>Japonica</td>\n",
       "      <td>CONTROL</td>\n",
       "      <td>5.029932</td>\n",
       "      <td>4.012293</td>\n",
       "    </tr>\n",
       "    <tr>\n",
       "      <th>3</th>\n",
       "      <td>SRR2931043</td>\n",
       "      <td>CONTROL</td>\n",
       "      <td>30</td>\n",
       "      <td>AZ</td>\n",
       "      <td>Japonica</td>\n",
       "      <td>CONTROL</td>\n",
       "      <td>4.331433</td>\n",
       "      <td>2.288004</td>\n",
       "    </tr>\n",
       "    <tr>\n",
       "      <th>4</th>\n",
       "      <td>SRR2931044</td>\n",
       "      <td>CONTROL</td>\n",
       "      <td>45</td>\n",
       "      <td>AZ</td>\n",
       "      <td>Japonica</td>\n",
       "      <td>CONTROL</td>\n",
       "      <td>4.281086</td>\n",
       "      <td>3.465565</td>\n",
       "    </tr>\n",
       "  </tbody>\n",
       "</table>\n",
       "</div>"
      ],
      "text/plain": [
       "       Sample Treatment  Time Genotype Subspecies Subtreatment  \\\n",
       "0  SRR2931040   CONTROL    15       AZ   Japonica      CONTROL   \n",
       "1  SRR2931041   CONTROL    15       AZ   Japonica      CONTROL   \n",
       "2  SRR2931042   CONTROL    30       AZ   Japonica      CONTROL   \n",
       "3  SRR2931043   CONTROL    30       AZ   Japonica      CONTROL   \n",
       "4  SRR2931044   CONTROL    45       AZ   Japonica      CONTROL   \n",
       "\n",
       "   LOC_Os02g28980.1  LOC_Os04g28420.1  \n",
       "0          5.141542          4.268040  \n",
       "1          4.879507          4.116958  \n",
       "2          5.029932          4.012293  \n",
       "3          4.331433          2.288004  \n",
       "4          4.281086          3.465565  "
      ]
     },
     "execution_count": 150,
     "metadata": {},
     "output_type": "execute_result"
    }
   ],
   "source": [
    "merged_data = pd.merge(data, pivoted_melted_data1)\n",
    "merged_data.head()"
   ]
  },
  {
   "cell_type": "code",
   "execution_count": 151,
   "metadata": {},
   "outputs": [
    {
     "data": {
      "text/plain": [
       "(462, 8)"
      ]
     },
     "execution_count": 151,
     "metadata": {},
     "output_type": "execute_result"
    }
   ],
   "source": [
    "merged_data.shape"
   ]
  },
  {
   "cell_type": "code",
   "execution_count": 153,
   "metadata": {},
   "outputs": [
    {
     "data": {
      "text/plain": [
       "Sample               object\n",
       "Treatment            object\n",
       "Time                  int64\n",
       "Genotype             object\n",
       "Subspecies           object\n",
       "Subtreatment         object\n",
       "LOC_Os02g28980.1    float64\n",
       "LOC_Os04g28420.1    float64\n",
       "dtype: object"
      ]
     },
     "execution_count": 153,
     "metadata": {},
     "output_type": "execute_result"
    }
   ],
   "source": [
    "merged_data.dtypes"
   ]
  },
  {
   "cell_type": "code",
   "execution_count": 154,
   "metadata": {},
   "outputs": [
    {
     "data": {
      "text/plain": [
       "<seaborn.axisgrid.FacetGrid at 0x249081c82e8>"
      ]
     },
     "execution_count": 154,
     "metadata": {},
     "output_type": "execute_result"
    },
    {
     "data": {
      "image/png": "[encoded data removed]",
      "text/plain": [
       "<Figure size 486.625x360 with 1 Axes>"
      ]
     },
     "metadata": {
      "needs_background": "light"
     },
     "output_type": "display_data"
    }
   ],
   "source": [
    "sns.relplot(x=\"LOC_Os02g28980.1\", y=\"LOC_Os04g28420.1\", hue=\"Subtreatment\", data=merged_data)"
   ]
  },
  {
   "cell_type": "code",
   "execution_count": 155,
   "metadata": {},
   "outputs": [
    {
     "data": {
      "text/plain": [
       "<seaborn.axisgrid.FacetGrid at 0x2490a2d8f28>"
      ]
     },
     "execution_count": 155,
     "metadata": {},
     "output_type": "execute_result"
    },
    {
     "data": {
      "image/png": "[encoded data removed]",
      "text/plain": [
       "<Figure size 452.25x360 with 1 Axes>"
      ]
     },
     "metadata": {
      "needs_background": "light"
     },
     "output_type": "display_data"
    }
   ],
   "source": [
    "sns.relplot(x=\"LOC_Os02g28980.1\", y=\"LOC_Os04g28420.1\", hue=\"Subspecies\", data=merged_data)"
   ]
  },
  {
   "cell_type": "code",
   "execution_count": 156,
   "metadata": {},
   "outputs": [
    {
     "data": {
      "text/plain": [
       "<seaborn.axisgrid.FacetGrid at 0x2490a2d8198>"
      ]
     },
     "execution_count": 156,
     "metadata": {},
     "output_type": "execute_result"
    },
    {
     "data": {
      "image/png": "[encoded data removed]",
      "text/plain": [
       "<Figure size 448.234x360 with 1 Axes>"
      ]
     },
     "metadata": {
      "needs_background": "light"
     },
     "output_type": "display_data"
    }
   ],
   "source": [
    "sns.relplot(x=\"LOC_Os02g28980.1\", y=\"LOC_Os04g28420.1\", hue=\"Treatment\", data=merged_data)"
   ]
  },
  {
   "cell_type": "code",
   "execution_count": null,
   "metadata": {},
   "outputs": [],
   "source": []
  }
 ],
 "metadata": {
  "kernelspec": {
   "display_name": "Python 3",
   "language": "python",
   "name": "python3"
  },
  "language_info": {
   "codemirror_mode": {
    "name": "ipython",
    "version": 3
   },
   "file_extension": ".py",
   "mimetype": "text/x-python",
   "name": "python",
   "nbconvert_exporter": "python",
   "pygments_lexer": "ipython3",
   "version": "3.7.1"
  }
 },
 "nbformat": 4,
 "nbformat_minor": 2
}
